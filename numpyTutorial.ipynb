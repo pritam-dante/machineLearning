{
  "nbformat": 4,
  "nbformat_minor": 0,
  "metadata": {
    "colab": {
      "name": "numpyTutorial.ipynb",
      "provenance": [],
      "collapsed_sections": [],
      "authorship_tag": "ABX9TyOtAxoouvuHyxj0Ba267lMT",
      "include_colab_link": true
    },
    "kernelspec": {
      "name": "python3",
      "display_name": "Python 3"
    },
    "language_info": {
      "name": "python"
    }
  },
  "cells": [
    {
      "cell_type": "markdown",
      "metadata": {
        "id": "view-in-github",
        "colab_type": "text"
      },
      "source": [
        "<a href=\"https://colab.research.google.com/github/pritam-dante/machineLearning/blob/main/numpyTutorial.ipynb\" target=\"_parent\"><img src=\"https://colab.research.google.com/assets/colab-badge.svg\" alt=\"Open In Colab\"/></a>"
      ]
    },
    {
      "cell_type": "markdown",
      "metadata": {
        "id": "tLALH6ykoxV3"
      },
      "source": [
        "NumPy - Numerical Python"
      ]
    },
    {
      "cell_type": "code",
      "metadata": {
        "id": "xYy4EzpTo0rY"
      },
      "source": [
        "import numpy as np"
      ],
      "execution_count": 1,
      "outputs": []
    },
    {
      "cell_type": "markdown",
      "metadata": {
        "id": "5MqGIo6Mo5AS"
      },
      "source": [
        "List vs Numpy -Time Taken"
      ]
    },
    {
      "cell_type": "code",
      "metadata": {
        "id": "3u1z8sISo2LE"
      },
      "source": [
        "from time import process_time"
      ],
      "execution_count": 2,
      "outputs": []
    },
    {
      "cell_type": "markdown",
      "metadata": {
        "id": "EKKmceBNo_is"
      },
      "source": [
        "Time taken by a list"
      ]
    },
    {
      "cell_type": "code",
      "metadata": {
        "colab": {
          "base_uri": "https://localhost:8080/"
        },
        "id": "Ki37rQUpo-rV",
        "outputId": "03721ba2-e854-4639-8001-09c4cff94c21"
      },
      "source": [
        "python_list = [i for i in range(10000)]\n",
        "start_time = process_time()\n",
        "python_list = [i+5 for i in python_list]\n",
        "end_time = process_time()\n",
        "print(end_time - start_time)"
      ],
      "execution_count": 3,
      "outputs": [
        {
          "output_type": "stream",
          "name": "stdout",
          "text": [
            "0.0010204289999999894\n"
          ]
        }
      ]
    },
    {
      "cell_type": "code",
      "metadata": {
        "colab": {
          "base_uri": "https://localhost:8080/"
        },
        "id": "72COLo35pYNP",
        "outputId": "8b84e27b-f4e2-4dcb-99e1-ffc35631fa11"
      },
      "source": [
        "np_array = np.array([i for i in range(10000)])\n",
        "start_time = process_time()\n",
        "np_array += 5\n",
        "end_time = process_time()\n",
        "print(end_time-start_time)"
      ],
      "execution_count": 4,
      "outputs": [
        {
          "output_type": "stream",
          "name": "stdout",
          "text": [
            "0.0010870669999993865\n"
          ]
        }
      ]
    },
    {
      "cell_type": "markdown",
      "metadata": {
        "id": "xsM82KkvpxFd"
      },
      "source": [
        "Numpy Arrays"
      ]
    },
    {
      "cell_type": "code",
      "metadata": {
        "colab": {
          "base_uri": "https://localhost:8080/"
        },
        "id": "pP-ZlxyFppU4",
        "outputId": "2d68c864-343e-4690-a987-7befc688f299"
      },
      "source": [
        "#list\n",
        "list1 = [1,2,3,4,5]\n",
        "print(list1)\n",
        "type(list1)"
      ],
      "execution_count": 5,
      "outputs": [
        {
          "output_type": "stream",
          "name": "stdout",
          "text": [
            "[1, 2, 3, 4, 5]\n"
          ]
        },
        {
          "output_type": "execute_result",
          "data": {
            "text/plain": [
              "list"
            ]
          },
          "metadata": {},
          "execution_count": 5
        }
      ]
    },
    {
      "cell_type": "code",
      "metadata": {
        "colab": {
          "base_uri": "https://localhost:8080/"
        },
        "id": "L2PdVHrep4Jy",
        "outputId": "64fa2e1d-2678-48a7-fdf0-b369175ae5a4"
      },
      "source": [
        "np_array = np.array([1,2,3,4,5])\n",
        "print(np_array)\n",
        "type(np_array)"
      ],
      "execution_count": 7,
      "outputs": [
        {
          "output_type": "stream",
          "name": "stdout",
          "text": [
            "[1 2 3 4 5]\n"
          ]
        },
        {
          "output_type": "execute_result",
          "data": {
            "text/plain": [
              "numpy.ndarray"
            ]
          },
          "metadata": {},
          "execution_count": 7
        }
      ]
    },
    {
      "cell_type": "markdown",
      "metadata": {
        "id": "o5WXRCSYqIc2"
      },
      "source": [
        "no commas in numpy array...and also the type is ndarray which is n-dimensional array"
      ]
    },
    {
      "cell_type": "markdown",
      "metadata": {
        "id": "G6rfPQkKqR5V"
      },
      "source": [
        "**Creating a 1 dimension array**"
      ]
    },
    {
      "cell_type": "code",
      "metadata": {
        "colab": {
          "base_uri": "https://localhost:8080/"
        },
        "id": "Z_DfsxCdp-_8",
        "outputId": "64a6c933-fc36-4abd-b456-9ae5f0be1841"
      },
      "source": [
        "a = np.array([1,2,3,4,5])\n",
        "print(a)\n",
        "a.shape"
      ],
      "execution_count": 9,
      "outputs": [
        {
          "output_type": "stream",
          "name": "stdout",
          "text": [
            "[1 2 3 4 5]\n"
          ]
        },
        {
          "output_type": "execute_result",
          "data": {
            "text/plain": [
              "(5,)"
            ]
          },
          "metadata": {},
          "execution_count": 9
        }
      ]
    },
    {
      "cell_type": "code",
      "metadata": {
        "colab": {
          "base_uri": "https://localhost:8080/"
        },
        "id": "5AvUyyu9qczh",
        "outputId": "f5b4b2dc-88d8-4833-9534-06e53154b42a"
      },
      "source": [
        "b = np.array([(1,2,3,4,5),(6,7,8,9,10)])\n",
        "print(b)\n",
        "b.shape"
      ],
      "execution_count": 10,
      "outputs": [
        {
          "output_type": "stream",
          "name": "stdout",
          "text": [
            "[[ 1  2  3  4  5]\n",
            " [ 6  7  8  9 10]]\n"
          ]
        },
        {
          "output_type": "execute_result",
          "data": {
            "text/plain": [
              "(2, 5)"
            ]
          },
          "metadata": {},
          "execution_count": 10
        }
      ]
    },
    {
      "cell_type": "markdown",
      "metadata": {
        "id": "LQ7Nb7mJqutg"
      },
      "source": [
        "2 rows and 5 columns"
      ]
    },
    {
      "cell_type": "code",
      "metadata": {
        "colab": {
          "base_uri": "https://localhost:8080/"
        },
        "id": "yDNrj0brqqMQ",
        "outputId": "2feeffed-c5e9-41c4-a120-052a2e1363eb"
      },
      "source": [
        "c = np.array([(1,2,3,4),(5,6,7,8)],dtype=float)\n",
        "print(c)\n"
      ],
      "execution_count": 11,
      "outputs": [
        {
          "output_type": "stream",
          "name": "stdout",
          "text": [
            "[[1. 2. 3. 4.]\n",
            " [5. 6. 7. 8.]]\n"
          ]
        }
      ]
    },
    {
      "cell_type": "markdown",
      "metadata": {
        "id": "hcOWWy69q9rB"
      },
      "source": [
        "**Initial Placeholder in numpy arrays**"
      ]
    },
    {
      "cell_type": "code",
      "metadata": {
        "colab": {
          "base_uri": "https://localhost:8080/"
        },
        "id": "dunHC9LPq5Wr",
        "outputId": "26b97b8a-3241-4e83-80e5-3ca9e8ddcc09"
      },
      "source": [
        "#creating a numpy arrays of Zeros\n",
        "x = np.zeros(5)\n",
        "y = np.zeros((4,5))\n",
        "print(x)\n",
        "print(y)"
      ],
      "execution_count": 12,
      "outputs": [
        {
          "output_type": "stream",
          "name": "stdout",
          "text": [
            "[0. 0. 0. 0. 0.]\n",
            "[[0. 0. 0. 0. 0.]\n",
            " [0. 0. 0. 0. 0.]\n",
            " [0. 0. 0. 0. 0.]\n",
            " [0. 0. 0. 0. 0.]]\n"
          ]
        }
      ]
    },
    {
      "cell_type": "code",
      "metadata": {
        "colab": {
          "base_uri": "https://localhost:8080/"
        },
        "id": "ArY0te5Prp8a",
        "outputId": "6d8227a7-5e9e-45f0-83da-9efdfcb37232"
      },
      "source": [
        "#create a numpy arrays of ones\n",
        "y = np.ones((3,3))\n",
        "print(y)"
      ],
      "execution_count": 13,
      "outputs": [
        {
          "output_type": "stream",
          "name": "stdout",
          "text": [
            "[[1. 1. 1.]\n",
            " [1. 1. 1.]\n",
            " [1. 1. 1.]]\n"
          ]
        }
      ]
    },
    {
      "cell_type": "code",
      "metadata": {
        "colab": {
          "base_uri": "https://localhost:8080/"
        },
        "id": "gRlG3b4vry4a",
        "outputId": "afb2b031-cc1e-4b91-e599-27f463927587"
      },
      "source": [
        "#arrays of a particular value\n",
        "z = np.full((5,4),69)\n",
        "print(z)"
      ],
      "execution_count": 14,
      "outputs": [
        {
          "output_type": "stream",
          "name": "stdout",
          "text": [
            "[[69 69 69 69]\n",
            " [69 69 69 69]\n",
            " [69 69 69 69]\n",
            " [69 69 69 69]\n",
            " [69 69 69 69]]\n"
          ]
        }
      ]
    },
    {
      "cell_type": "code",
      "metadata": {
        "colab": {
          "base_uri": "https://localhost:8080/"
        },
        "id": "l_C5-f8NsC8R",
        "outputId": "112ec046-c10f-4a02-de8f-e8c12104321a"
      },
      "source": [
        "a= np.full((10),16)\n",
        "print(a)"
      ],
      "execution_count": 17,
      "outputs": [
        {
          "output_type": "stream",
          "name": "stdout",
          "text": [
            "[16 16 16 16 16 16 16 16 16 16]\n"
          ]
        }
      ]
    },
    {
      "cell_type": "code",
      "metadata": {
        "colab": {
          "base_uri": "https://localhost:8080/"
        },
        "id": "FWilJemzsg95",
        "outputId": "2b4b6a97-370d-4861-aea3-4bf017692d7f"
      },
      "source": [
        "#create identity matrix\n",
        "a = np.eye(5)\n",
        "print(a)"
      ],
      "execution_count": 18,
      "outputs": [
        {
          "output_type": "stream",
          "name": "stdout",
          "text": [
            "[[1. 0. 0. 0. 0.]\n",
            " [0. 1. 0. 0. 0.]\n",
            " [0. 0. 1. 0. 0.]\n",
            " [0. 0. 0. 1. 0.]\n",
            " [0. 0. 0. 0. 1.]]\n"
          ]
        }
      ]
    },
    {
      "cell_type": "code",
      "metadata": {
        "colab": {
          "base_uri": "https://localhost:8080/"
        },
        "id": "DLITG9HLs4Np",
        "outputId": "10bbf98e-209b-4c9e-a092-3d891a8188f2"
      },
      "source": [
        "#creating a numpy array with random values\n",
        "b = np.random.random((3,4)) \n",
        "print(b)"
      ],
      "execution_count": 19,
      "outputs": [
        {
          "output_type": "stream",
          "name": "stdout",
          "text": [
            "[[0.70334726 0.10039648 0.484145   0.52390999]\n",
            " [0.52757002 0.16647475 0.63859266 0.16651206]\n",
            " [0.55289374 0.94547351 0.52912514 0.27710226]]\n"
          ]
        }
      ]
    },
    {
      "cell_type": "code",
      "metadata": {
        "colab": {
          "base_uri": "https://localhost:8080/"
        },
        "id": "TzOta9jevuaw",
        "outputId": "637637fa-d0a3-48c4-fb21-8d7ab56ea4c0"
      },
      "source": [
        "#random integer values within a specific range\n",
        "c = np.random.randint(10,100,(3,5))\n",
        "print(c)"
      ],
      "execution_count": 20,
      "outputs": [
        {
          "output_type": "stream",
          "name": "stdout",
          "text": [
            "[[92 96 74 30 24]\n",
            " [18 39 94 88 43]\n",
            " [10 67 86 66 41]]\n"
          ]
        }
      ]
    },
    {
      "cell_type": "code",
      "metadata": {
        "colab": {
          "base_uri": "https://localhost:8080/"
        },
        "id": "C6dti6ltv6dO",
        "outputId": "8a91ce10-0559-46f1-90e8-3541857a577c"
      },
      "source": [
        "#array of evenly spaced values -->specifying the number of values required\n",
        "d = np.linspace(10,30,num=5)\n",
        "print(d)"
      ],
      "execution_count": 25,
      "outputs": [
        {
          "output_type": "stream",
          "name": "stdout",
          "text": [
            "[10. 15. 20. 25. 30.]\n"
          ]
        }
      ]
    },
    {
      "cell_type": "code",
      "metadata": {
        "colab": {
          "base_uri": "https://localhost:8080/"
        },
        "id": "HtJXv_uewaru",
        "outputId": "a605c467-5a42-4996-e9d1-916c55d169bb"
      },
      "source": [
        "#array of evenly spaced values --> specifying the step\n",
        "e = np.arange(3)\n",
        "print(e)\n",
        "f = np.arange(3.0)\n",
        "print(f)\n",
        "g = np.arange(10,30)\n",
        "print(g)\n",
        "h = np.arange(10,30,5)\n",
        "print(h)"
      ],
      "execution_count": 32,
      "outputs": [
        {
          "output_type": "stream",
          "name": "stdout",
          "text": [
            "[0 1 2]\n",
            "[0. 1. 2.]\n",
            "[10 11 12 13 14 15 16 17 18 19 20 21 22 23 24 25 26 27 28 29]\n",
            "[10 15 20 25]\n"
          ]
        }
      ]
    },
    {
      "cell_type": "code",
      "metadata": {
        "colab": {
          "base_uri": "https://localhost:8080/"
        },
        "id": "SyUVKI9DxHTA",
        "outputId": "40ef00f5-d8ca-4470-f6ea-701cf9c5b730"
      },
      "source": [
        "#convert a list to a numpy array\n",
        "list2 = [1,2,3,4,5,6,7]\n",
        "\n",
        "np_array = np.asarray(list2)\n",
        "print(np_array)\n",
        "type(np_array)"
      ],
      "execution_count": 33,
      "outputs": [
        {
          "output_type": "stream",
          "name": "stdout",
          "text": [
            "[1 2 3 4 5 6 7]\n"
          ]
        },
        {
          "output_type": "execute_result",
          "data": {
            "text/plain": [
              "numpy.ndarray"
            ]
          },
          "metadata": {},
          "execution_count": 33
        }
      ]
    },
    {
      "cell_type": "markdown",
      "metadata": {
        "id": "yNz5ndpgxs1r"
      },
      "source": [
        "**Analysing a numpy array**"
      ]
    },
    {
      "cell_type": "code",
      "metadata": {
        "colab": {
          "base_uri": "https://localhost:8080/"
        },
        "id": "cX9iNFxoxoI9",
        "outputId": "0a0e1b12-1cd7-4b0c-edda-4400d5fa0f86"
      },
      "source": [
        "c = np.random.randint(10,90,(5,5))\n",
        "print(c)"
      ],
      "execution_count": 34,
      "outputs": [
        {
          "output_type": "stream",
          "name": "stdout",
          "text": [
            "[[43 33 62 25 38]\n",
            " [13 50 13 69 82]\n",
            " [39 65 23 63 63]\n",
            " [65 71 26 25 47]\n",
            " [30 20 15 84 58]]\n"
          ]
        }
      ]
    },
    {
      "cell_type": "code",
      "metadata": {
        "colab": {
          "base_uri": "https://localhost:8080/"
        },
        "id": "3ZldH4YMx6hE",
        "outputId": "07577f90-65db-40ed-bbdc-11e7fa68c0d0"
      },
      "source": [
        "#array dimension\n",
        "print(c.shape)"
      ],
      "execution_count": 35,
      "outputs": [
        {
          "output_type": "stream",
          "name": "stdout",
          "text": [
            "(5, 5)\n"
          ]
        }
      ]
    },
    {
      "cell_type": "code",
      "metadata": {
        "colab": {
          "base_uri": "https://localhost:8080/"
        },
        "id": "9eTjkSj3x_F1",
        "outputId": "c38fce05-73d7-4197-9fb1-4fa383d36706"
      },
      "source": [
        "#number of dimension\n",
        "print(c.ndim)"
      ],
      "execution_count": 36,
      "outputs": [
        {
          "output_type": "stream",
          "name": "stdout",
          "text": [
            "2\n"
          ]
        }
      ]
    },
    {
      "cell_type": "code",
      "metadata": {
        "colab": {
          "base_uri": "https://localhost:8080/"
        },
        "id": "ndz8H7sfyEOh",
        "outputId": "f23cece6-e953-4e88-e8e7-35365a0e09b6"
      },
      "source": [
        "#checking the data type of the values in the array\n",
        "print(c.dtype)"
      ],
      "execution_count": 37,
      "outputs": [
        {
          "output_type": "stream",
          "name": "stdout",
          "text": [
            "int64\n"
          ]
        }
      ]
    },
    {
      "cell_type": "markdown",
      "metadata": {
        "id": "xNgCfNOcyMCG"
      },
      "source": [
        "**Mathematical operations on a np array**"
      ]
    },
    {
      "cell_type": "code",
      "metadata": {
        "colab": {
          "base_uri": "https://localhost:8080/"
        },
        "id": "J1SflqXuyKfz",
        "outputId": "9d01cc5d-f6b8-46ba-a716-176e5136f748"
      },
      "source": [
        "list1 = [1,2,3,4]\n",
        "list2 = [5,6,7,8]\n",
        "\n",
        "print(list1 + list2) \n",
        "#concatenate or joins two list"
      ],
      "execution_count": 39,
      "outputs": [
        {
          "output_type": "stream",
          "name": "stdout",
          "text": [
            "[1, 2, 3, 4, 5, 6, 7, 8]\n"
          ]
        }
      ]
    },
    {
      "cell_type": "code",
      "metadata": {
        "colab": {
          "base_uri": "https://localhost:8080/"
        },
        "id": "5PB73f6HyXQF",
        "outputId": "84b49619-de11-4e2e-fc54-640c96269f8c"
      },
      "source": [
        "a = np.random.randint(0,10,(3,3))\n",
        "b = np.random.randint(10,20,(3,3))\n",
        "\n",
        "print(a)\n",
        "print(b)\n"
      ],
      "execution_count": 41,
      "outputs": [
        {
          "output_type": "stream",
          "name": "stdout",
          "text": [
            "[[2 2 8]\n",
            " [7 8 8]\n",
            " [6 2 2]]\n",
            "[[14 16 15]\n",
            " [17 12 10]\n",
            " [19 16 11]]\n"
          ]
        }
      ]
    },
    {
      "cell_type": "code",
      "metadata": {
        "colab": {
          "base_uri": "https://localhost:8080/"
        },
        "id": "2p6Pwn4Tylgh",
        "outputId": "7e37f180-100a-4fd0-df35-7304729fb22c"
      },
      "source": [
        "print(a+b)\n",
        "print(a-b)\n",
        "print(a*b)\n",
        "print(a/b)"
      ],
      "execution_count": 42,
      "outputs": [
        {
          "output_type": "stream",
          "name": "stdout",
          "text": [
            "[[16 18 23]\n",
            " [24 20 18]\n",
            " [25 18 13]]\n",
            "[[-12 -14  -7]\n",
            " [-10  -4  -2]\n",
            " [-13 -14  -9]]\n",
            "[[ 28  32 120]\n",
            " [119  96  80]\n",
            " [114  32  22]]\n",
            "[[0.14285714 0.125      0.53333333]\n",
            " [0.41176471 0.66666667 0.8       ]\n",
            " [0.31578947 0.125      0.18181818]]\n"
          ]
        }
      ]
    },
    {
      "cell_type": "code",
      "metadata": {
        "id": "leoA-tl3yxW9"
      },
      "source": [
        "a = np.random.randint(0,10,(3,3))\n",
        "b = np.random.randint(10,20,(3,3))"
      ],
      "execution_count": 43,
      "outputs": []
    },
    {
      "cell_type": "code",
      "metadata": {
        "colab": {
          "base_uri": "https://localhost:8080/"
        },
        "id": "4c7MPLMey0ig",
        "outputId": "a2251099-4cf3-4da5-e97b-cfedcbc8f600"
      },
      "source": [
        "print(np.add(a,b))\n",
        "print(np.subtract(a,b))\n",
        "print(np.multiply(a,b))\n",
        "print(np.divide(a,b))"
      ],
      "execution_count": 44,
      "outputs": [
        {
          "output_type": "stream",
          "name": "stdout",
          "text": [
            "[[19 14 15]\n",
            " [14 14 17]\n",
            " [23 21 20]]\n",
            "[[ -9  -6  -9]\n",
            " [-10  -8  -7]\n",
            " [-13  -3 -12]]\n",
            "[[ 70  40  36]\n",
            " [ 24  33  60]\n",
            " [ 90 108  64]]\n",
            "[[0.35714286 0.4        0.25      ]\n",
            " [0.16666667 0.27272727 0.41666667]\n",
            " [0.27777778 0.75       0.25      ]]\n"
          ]
        }
      ]
    },
    {
      "cell_type": "markdown",
      "metadata": {
        "id": "kWh61a1PzEOJ"
      },
      "source": [
        "**Array Manipulation**"
      ]
    },
    {
      "cell_type": "code",
      "metadata": {
        "colab": {
          "base_uri": "https://localhost:8080/"
        },
        "id": "h6NO2W-zy_3G",
        "outputId": "32bc8eed-b40b-4892-ffb1-27b3fd5bc212"
      },
      "source": [
        "array = np.random.randint(0,10,(2,3))\n",
        "print(array)\n",
        "print(array.shape)"
      ],
      "execution_count": 45,
      "outputs": [
        {
          "output_type": "stream",
          "name": "stdout",
          "text": [
            "[[0 3 8]\n",
            " [6 6 4]]\n",
            "(2, 3)\n"
          ]
        }
      ]
    },
    {
      "cell_type": "code",
      "metadata": {
        "colab": {
          "base_uri": "https://localhost:8080/"
        },
        "id": "9_zfzgwTzOt7",
        "outputId": "b3470f2f-095a-41fd-b064-32f68923ec87"
      },
      "source": [
        "#transpose\n",
        "trans = np.transpose(array)\n",
        "print(trans)\n",
        "print(trans.shape)"
      ],
      "execution_count": 46,
      "outputs": [
        {
          "output_type": "stream",
          "name": "stdout",
          "text": [
            "[[0 6]\n",
            " [3 6]\n",
            " [8 4]]\n",
            "(3, 2)\n"
          ]
        }
      ]
    },
    {
      "cell_type": "code",
      "metadata": {
        "colab": {
          "base_uri": "https://localhost:8080/"
        },
        "id": "YbufkX9SzVqA",
        "outputId": "26f73cfa-165d-4572-f05e-86d877308d17"
      },
      "source": [
        "#transpose2\n",
        "trans2 = trans.T\n",
        "print(trans2)\n",
        "print(trans2.shape)"
      ],
      "execution_count": 48,
      "outputs": [
        {
          "output_type": "stream",
          "name": "stdout",
          "text": [
            "[[0 3 8]\n",
            " [6 6 4]]\n",
            "(2, 3)\n"
          ]
        }
      ]
    },
    {
      "cell_type": "code",
      "metadata": {
        "colab": {
          "base_uri": "https://localhost:8080/"
        },
        "id": "4zvrbRl5zasV",
        "outputId": "4fa1a99a-f38e-49ef-83b5-80d2b933522f"
      },
      "source": [
        "#reshaping a array\n",
        "a = np.random.randint(0,10,(2,3))\n",
        "print(a)\n",
        "print(a.shape)"
      ],
      "execution_count": 49,
      "outputs": [
        {
          "output_type": "stream",
          "name": "stdout",
          "text": [
            "[[1 0 5]\n",
            " [9 9 4]]\n",
            "(2, 3)\n"
          ]
        }
      ]
    },
    {
      "cell_type": "code",
      "metadata": {
        "colab": {
          "base_uri": "https://localhost:8080/"
        },
        "id": "vIe9InnqzqJC",
        "outputId": "84c9e61e-bf38-43b8-e5db-bed975109dff"
      },
      "source": [
        "b = a.reshape(3,2)\n",
        "print(b)\n",
        "print(b.shape)"
      ],
      "execution_count": 50,
      "outputs": [
        {
          "output_type": "stream",
          "name": "stdout",
          "text": [
            "[[1 0]\n",
            " [5 9]\n",
            " [9 4]]\n",
            "(3, 2)\n"
          ]
        }
      ]
    },
    {
      "cell_type": "markdown",
      "metadata": {
        "id": "eie3Bmlr2RpB"
      },
      "source": [
        "**Convert 1D array into 2D array**"
      ]
    },
    {
      "cell_type": "code",
      "metadata": {
        "colab": {
          "base_uri": "https://localhost:8080/"
        },
        "id": "FwCYjlChz2w_",
        "outputId": "2d445c0e-f66d-4964-927b-0d60070ddb26"
      },
      "source": [
        "a = np.array([1,2,3,4,5])\n",
        "a.shape"
      ],
      "execution_count": 51,
      "outputs": [
        {
          "output_type": "execute_result",
          "data": {
            "text/plain": [
              "(5,)"
            ]
          },
          "metadata": {},
          "execution_count": 51
        }
      ]
    },
    {
      "cell_type": "code",
      "metadata": {
        "colab": {
          "base_uri": "https://localhost:8080/"
        },
        "id": "7GqPawaN2cVh",
        "outputId": "b52b1a57-80a6-45ce-a025-2130dda314da"
      },
      "source": [
        "a2 = a[np.newaxis, :]\n",
        "a2.shape"
      ],
      "execution_count": 52,
      "outputs": [
        {
          "output_type": "execute_result",
          "data": {
            "text/plain": [
              "(1, 5)"
            ]
          },
          "metadata": {},
          "execution_count": 52
        }
      ]
    },
    {
      "cell_type": "code",
      "metadata": {
        "colab": {
          "base_uri": "https://localhost:8080/"
        },
        "id": "dIQD70Rf2lDz",
        "outputId": "e468bead-b924-4398-a9c8-2cc13057a07a"
      },
      "source": [
        "a3 = a[:,np.newaxis]\n",
        "a3.shape"
      ],
      "execution_count": 53,
      "outputs": [
        {
          "output_type": "execute_result",
          "data": {
            "text/plain": [
              "(5, 1)"
            ]
          },
          "metadata": {},
          "execution_count": 53
        }
      ]
    },
    {
      "cell_type": "markdown",
      "metadata": {
        "id": "O8Go7CvD3RMm"
      },
      "source": [
        "**Indexing and slicing**\n",
        "We can index and slice NumPy arrays in the same way we can slice python lists"
      ]
    },
    {
      "cell_type": "code",
      "metadata": {
        "id": "JeVd_byf2tBH"
      },
      "source": [
        "my_list = [0, 1, 2, 3, 4, 5, 6, 7, 8, 9]\n",
        "#          0, 1, 2, 3, 4, 5, 6, 7, 8, 9  posiive index\n",
        "#        -10,-9,-8,-7,-6,-5,-4,-3,-2,-1  negative index\n",
        "\n",
        "# list[start:stop:step] #stop is exclusive"
      ],
      "execution_count": 54,
      "outputs": []
    },
    {
      "cell_type": "code",
      "metadata": {
        "colab": {
          "base_uri": "https://localhost:8080/"
        },
        "id": "cgRK8Ly-QcuL",
        "outputId": "cc6f558e-3bb6-45ee-ca07-354260c6ec70"
      },
      "source": [
        "print(my_list[::-1])"
      ],
      "execution_count": 59,
      "outputs": [
        {
          "output_type": "stream",
          "name": "stdout",
          "text": [
            "[9, 8, 7, 6, 5, 4, 3, 2, 1, 0]\n"
          ]
        }
      ]
    },
    {
      "cell_type": "markdown",
      "metadata": {
        "id": "Q6PeMGTIRUv8"
      },
      "source": [
        "**Reverse an array**"
      ]
    },
    {
      "cell_type": "code",
      "metadata": {
        "colab": {
          "base_uri": "https://localhost:8080/"
        },
        "id": "rvlYgZKfRKsg",
        "outputId": "b2660263-9a4a-499d-c5e3-8c0ce9aa1de7"
      },
      "source": [
        "#np.flip\n",
        "arr = np.array([1,2,3,4,5])\n",
        "rev_arr = np.flip(arr)\n",
        "print(rev_arr)\n"
      ],
      "execution_count": 60,
      "outputs": [
        {
          "output_type": "stream",
          "name": "stdout",
          "text": [
            "[5 4 3 2 1]\n"
          ]
        }
      ]
    },
    {
      "cell_type": "code",
      "metadata": {
        "id": "-q56664uRiNN"
      },
      "source": [
        ""
      ],
      "execution_count": null,
      "outputs": []
    }
  ]
}