{
 "cells": [
  {
   "cell_type": "code",
   "execution_count": 1,
   "id": "fb327dc5",
   "metadata": {},
   "outputs": [],
   "source": [
    "import numpy as np\n",
    "import pandas as pd"
   ]
  },
  {
   "cell_type": "code",
   "execution_count": 2,
   "id": "37501a4b",
   "metadata": {},
   "outputs": [],
   "source": [
    "from sklearn.impute import SimpleImputer #for numerical data\n",
    "from sklearn.preprocessing import OneHotEncoder #for nominal data\n",
    "from sklearn.preprocessing import OrdinalEncoder #for ordinal data"
   ]
  },
  {
   "cell_type": "code",
   "execution_count": 3,
   "id": "e8478266",
   "metadata": {},
   "outputs": [],
   "source": [
    "df = pd.read_csv('covid_toy.csv')"
   ]
  },
  {
   "cell_type": "code",
   "execution_count": 4,
   "id": "a87f79a8",
   "metadata": {},
   "outputs": [
    {
     "data": {
      "text/html": [
       "<div>\n",
       "<style scoped>\n",
       "    .dataframe tbody tr th:only-of-type {\n",
       "        vertical-align: middle;\n",
       "    }\n",
       "\n",
       "    .dataframe tbody tr th {\n",
       "        vertical-align: top;\n",
       "    }\n",
       "\n",
       "    .dataframe thead th {\n",
       "        text-align: right;\n",
       "    }\n",
       "</style>\n",
       "<table border=\"1\" class=\"dataframe\">\n",
       "  <thead>\n",
       "    <tr style=\"text-align: right;\">\n",
       "      <th></th>\n",
       "      <th>age</th>\n",
       "      <th>gender</th>\n",
       "      <th>fever</th>\n",
       "      <th>cough</th>\n",
       "      <th>city</th>\n",
       "      <th>has_covid</th>\n",
       "    </tr>\n",
       "  </thead>\n",
       "  <tbody>\n",
       "    <tr>\n",
       "      <th>26</th>\n",
       "      <td>19</td>\n",
       "      <td>Female</td>\n",
       "      <td>100.0</td>\n",
       "      <td>Mild</td>\n",
       "      <td>Kolkata</td>\n",
       "      <td>Yes</td>\n",
       "    </tr>\n",
       "    <tr>\n",
       "      <th>28</th>\n",
       "      <td>16</td>\n",
       "      <td>Male</td>\n",
       "      <td>104.0</td>\n",
       "      <td>Mild</td>\n",
       "      <td>Kolkata</td>\n",
       "      <td>No</td>\n",
       "    </tr>\n",
       "    <tr>\n",
       "      <th>72</th>\n",
       "      <td>83</td>\n",
       "      <td>Female</td>\n",
       "      <td>101.0</td>\n",
       "      <td>Mild</td>\n",
       "      <td>Kolkata</td>\n",
       "      <td>No</td>\n",
       "    </tr>\n",
       "    <tr>\n",
       "      <th>93</th>\n",
       "      <td>27</td>\n",
       "      <td>Male</td>\n",
       "      <td>100.0</td>\n",
       "      <td>Mild</td>\n",
       "      <td>Kolkata</td>\n",
       "      <td>Yes</td>\n",
       "    </tr>\n",
       "  </tbody>\n",
       "</table>\n",
       "</div>"
      ],
      "text/plain": [
       "    age  gender  fever cough     city has_covid\n",
       "26   19  Female  100.0  Mild  Kolkata       Yes\n",
       "28   16    Male  104.0  Mild  Kolkata        No\n",
       "72   83  Female  101.0  Mild  Kolkata        No\n",
       "93   27    Male  100.0  Mild  Kolkata       Yes"
      ]
     },
     "execution_count": 4,
     "metadata": {},
     "output_type": "execute_result"
    }
   ],
   "source": [
    "df.sample(4)"
   ]
  },
  {
   "cell_type": "code",
   "execution_count": 5,
   "id": "b1a1b090",
   "metadata": {},
   "outputs": [
    {
     "data": {
      "text/plain": [
       "age           0\n",
       "gender        0\n",
       "fever        10\n",
       "cough         0\n",
       "city          0\n",
       "has_covid     0\n",
       "dtype: int64"
      ]
     },
     "execution_count": 5,
     "metadata": {},
     "output_type": "execute_result"
    }
   ],
   "source": [
    "df.isnull().sum()"
   ]
  },
  {
   "cell_type": "code",
   "execution_count": 6,
   "id": "2536d02c",
   "metadata": {},
   "outputs": [
    {
     "data": {
      "text/plain": [
       "Mild      62\n",
       "Strong    38\n",
       "Name: cough, dtype: int64"
      ]
     },
     "execution_count": 6,
     "metadata": {},
     "output_type": "execute_result"
    }
   ],
   "source": [
    "df['cough'].value_counts()"
   ]
  },
  {
   "cell_type": "code",
   "execution_count": 8,
   "id": "a36fc479",
   "metadata": {},
   "outputs": [
    {
     "data": {
      "text/plain": [
       "Kolkata      32\n",
       "Bangalore    30\n",
       "Delhi        22\n",
       "Mumbai       16\n",
       "Name: city, dtype: int64"
      ]
     },
     "execution_count": 8,
     "metadata": {},
     "output_type": "execute_result"
    }
   ],
   "source": [
    "df['city'].value_counts()"
   ]
  },
  {
   "cell_type": "code",
   "execution_count": 9,
   "id": "7bdebd9b",
   "metadata": {},
   "outputs": [],
   "source": [
    "from sklearn.model_selection import train_test_split\n",
    "X_train,X_test,y_train,y_test = train_test_split(df.drop(columns=['has_covid']),df['has_covid'],test_size=0.2)"
   ]
  },
  {
   "cell_type": "code",
   "execution_count": 10,
   "id": "f2ab01a9",
   "metadata": {},
   "outputs": [
    {
     "data": {
      "text/html": [
       "<div>\n",
       "<style scoped>\n",
       "    .dataframe tbody tr th:only-of-type {\n",
       "        vertical-align: middle;\n",
       "    }\n",
       "\n",
       "    .dataframe tbody tr th {\n",
       "        vertical-align: top;\n",
       "    }\n",
       "\n",
       "    .dataframe thead th {\n",
       "        text-align: right;\n",
       "    }\n",
       "</style>\n",
       "<table border=\"1\" class=\"dataframe\">\n",
       "  <thead>\n",
       "    <tr style=\"text-align: right;\">\n",
       "      <th></th>\n",
       "      <th>age</th>\n",
       "      <th>gender</th>\n",
       "      <th>fever</th>\n",
       "      <th>cough</th>\n",
       "      <th>city</th>\n",
       "    </tr>\n",
       "  </thead>\n",
       "  <tbody>\n",
       "    <tr>\n",
       "      <th>96</th>\n",
       "      <td>51</td>\n",
       "      <td>Female</td>\n",
       "      <td>101.0</td>\n",
       "      <td>Strong</td>\n",
       "      <td>Kolkata</td>\n",
       "    </tr>\n",
       "    <tr>\n",
       "      <th>7</th>\n",
       "      <td>20</td>\n",
       "      <td>Female</td>\n",
       "      <td>NaN</td>\n",
       "      <td>Strong</td>\n",
       "      <td>Mumbai</td>\n",
       "    </tr>\n",
       "    <tr>\n",
       "      <th>77</th>\n",
       "      <td>8</td>\n",
       "      <td>Female</td>\n",
       "      <td>101.0</td>\n",
       "      <td>Mild</td>\n",
       "      <td>Kolkata</td>\n",
       "    </tr>\n",
       "    <tr>\n",
       "      <th>84</th>\n",
       "      <td>69</td>\n",
       "      <td>Female</td>\n",
       "      <td>98.0</td>\n",
       "      <td>Strong</td>\n",
       "      <td>Mumbai</td>\n",
       "    </tr>\n",
       "    <tr>\n",
       "      <th>37</th>\n",
       "      <td>55</td>\n",
       "      <td>Male</td>\n",
       "      <td>100.0</td>\n",
       "      <td>Mild</td>\n",
       "      <td>Kolkata</td>\n",
       "    </tr>\n",
       "    <tr>\n",
       "      <th>...</th>\n",
       "      <td>...</td>\n",
       "      <td>...</td>\n",
       "      <td>...</td>\n",
       "      <td>...</td>\n",
       "      <td>...</td>\n",
       "    </tr>\n",
       "    <tr>\n",
       "      <th>68</th>\n",
       "      <td>54</td>\n",
       "      <td>Female</td>\n",
       "      <td>104.0</td>\n",
       "      <td>Strong</td>\n",
       "      <td>Kolkata</td>\n",
       "    </tr>\n",
       "    <tr>\n",
       "      <th>70</th>\n",
       "      <td>68</td>\n",
       "      <td>Female</td>\n",
       "      <td>101.0</td>\n",
       "      <td>Strong</td>\n",
       "      <td>Delhi</td>\n",
       "    </tr>\n",
       "    <tr>\n",
       "      <th>28</th>\n",
       "      <td>16</td>\n",
       "      <td>Male</td>\n",
       "      <td>104.0</td>\n",
       "      <td>Mild</td>\n",
       "      <td>Kolkata</td>\n",
       "    </tr>\n",
       "    <tr>\n",
       "      <th>98</th>\n",
       "      <td>5</td>\n",
       "      <td>Female</td>\n",
       "      <td>98.0</td>\n",
       "      <td>Strong</td>\n",
       "      <td>Mumbai</td>\n",
       "    </tr>\n",
       "    <tr>\n",
       "      <th>56</th>\n",
       "      <td>71</td>\n",
       "      <td>Male</td>\n",
       "      <td>NaN</td>\n",
       "      <td>Strong</td>\n",
       "      <td>Kolkata</td>\n",
       "    </tr>\n",
       "  </tbody>\n",
       "</table>\n",
       "<p>80 rows × 5 columns</p>\n",
       "</div>"
      ],
      "text/plain": [
       "    age  gender  fever   cough     city\n",
       "96   51  Female  101.0  Strong  Kolkata\n",
       "7    20  Female    NaN  Strong   Mumbai\n",
       "77    8  Female  101.0    Mild  Kolkata\n",
       "84   69  Female   98.0  Strong   Mumbai\n",
       "37   55    Male  100.0    Mild  Kolkata\n",
       "..  ...     ...    ...     ...      ...\n",
       "68   54  Female  104.0  Strong  Kolkata\n",
       "70   68  Female  101.0  Strong    Delhi\n",
       "28   16    Male  104.0    Mild  Kolkata\n",
       "98    5  Female   98.0  Strong   Mumbai\n",
       "56   71    Male    NaN  Strong  Kolkata\n",
       "\n",
       "[80 rows x 5 columns]"
      ]
     },
     "execution_count": 10,
     "metadata": {},
     "output_type": "execute_result"
    }
   ],
   "source": [
    "X_train"
   ]
  },
  {
   "cell_type": "markdown",
   "id": "ad1dd183",
   "metadata": {},
   "source": [
    "# 1. Aam Zindegi"
   ]
  },
  {
   "cell_type": "code",
   "execution_count": 15,
   "id": "668add36",
   "metadata": {},
   "outputs": [
    {
     "data": {
      "text/plain": [
       "(80, 1)"
      ]
     },
     "execution_count": 15,
     "metadata": {},
     "output_type": "execute_result"
    }
   ],
   "source": [
    "#adding simple imputer to fever column\n",
    "si = SimpleImputer()\n",
    "X_train_fever = si.fit_transform(X_train[['fever']])\n",
    "\n",
    "#also the test data\n",
    "X_test_fever = si.transform(X_test[['fever']])\n",
    "\n",
    "X_train_fever.shape"
   ]
  },
  {
   "cell_type": "code",
   "execution_count": 16,
   "id": "58e8309d",
   "metadata": {},
   "outputs": [
    {
     "data": {
      "text/plain": [
       "(20, 1)"
      ]
     },
     "execution_count": 16,
     "metadata": {},
     "output_type": "execute_result"
    }
   ],
   "source": [
    "#ordinalEncoding --> cough\n",
    "oe = OrdinalEncoder(categories=[['Mild','Strong']])\n",
    "X_train_cough = oe.fit_transform(X_train[['cough']])\n",
    "\n",
    "X_test_cough = oe.transform(X_test[['cough']])\n",
    "\n",
    "X_test_cough.shape"
   ]
  },
  {
   "cell_type": "code",
   "execution_count": 18,
   "id": "a1fb1a4b",
   "metadata": {},
   "outputs": [
    {
     "data": {
      "text/plain": [
       "(80, 4)"
      ]
     },
     "execution_count": 18,
     "metadata": {},
     "output_type": "execute_result"
    }
   ],
   "source": [
    "#oneHotEncoding --> gender,city {Nominal}\n",
    "ohe = OneHotEncoder(drop='first',sparse=False)\n",
    "X_train_gender_city = ohe.fit_transform(X_train[['gender','city']])\n",
    "\n",
    "X_test_gender_city = ohe.transform(X_test[['gender','city']])\n",
    "\n",
    "X_train_gender_city.shape\n",
    "\n",
    "# 2gender+4city\n",
    "# remove the frst column...\n",
    "#we got total 4 column"
   ]
  },
  {
   "cell_type": "code",
   "execution_count": 19,
   "id": "81b1362f",
   "metadata": {},
   "outputs": [],
   "source": [
    "#extracting age\n",
    "X_train_age = X_train.drop(columns=['gender','fever','cough','city']).values\n",
    "\n",
    "#also the test data\n",
    "X_test_age = X_test.drop(columns=['gender','fever','cough','city']).values"
   ]
  },
  {
   "cell_type": "code",
   "execution_count": 20,
   "id": "99ef4127",
   "metadata": {},
   "outputs": [
    {
     "data": {
      "text/plain": [
       "(80, 1)"
      ]
     },
     "execution_count": 20,
     "metadata": {},
     "output_type": "execute_result"
    }
   ],
   "source": [
    "X_train_age.shape"
   ]
  },
  {
   "cell_type": "code",
   "execution_count": 21,
   "id": "9bbdbefc",
   "metadata": {},
   "outputs": [],
   "source": [
    "X_train_transformed = np.concatenate((X_train_age,X_train_cough,X_train_fever,X_train_gender_city),axis=1)\n",
    "X_test_transformed = np.concatenate((X_test_age,X_test_cough,X_test_fever,X_test_gender_city),axis =1)"
   ]
  },
  {
   "cell_type": "code",
   "execution_count": 22,
   "id": "d29ecafb",
   "metadata": {},
   "outputs": [
    {
     "data": {
      "text/plain": [
       "(80, 7)"
      ]
     },
     "execution_count": 22,
     "metadata": {},
     "output_type": "execute_result"
    }
   ],
   "source": [
    "X_train_transformed.shape"
   ]
  },
  {
   "cell_type": "markdown",
   "id": "924ee8f2",
   "metadata": {},
   "source": [
    "### life will get easier with columnTransform\n",
    "# 2. Mentos Zindege"
   ]
  },
  {
   "cell_type": "code",
   "execution_count": 23,
   "id": "54c076d9",
   "metadata": {},
   "outputs": [],
   "source": [
    "from sklearn.compose import ColumnTransformer"
   ]
  },
  {
   "cell_type": "code",
   "execution_count": 25,
   "id": "57a3f22f",
   "metadata": {},
   "outputs": [],
   "source": [
    "transformer = ColumnTransformer(transformers=[\n",
    "    ('tnf1',SimpleImputer(),['fever']),\n",
    "    ('tnf2',OrdinalEncoder(categories=[['Mild','Strong']]),['cough']),\n",
    "    ('tnf3',OneHotEncoder(drop='first',sparse=False),['gender','city'])\n",
    "], remainder='passthrough')\n",
    "# transformers = list of (name, transformer, columns) tuples"
   ]
  },
  {
   "cell_type": "code",
   "execution_count": 27,
   "id": "38857aa5",
   "metadata": {},
   "outputs": [
    {
     "data": {
      "text/plain": [
       "(80, 7)"
      ]
     },
     "execution_count": 27,
     "metadata": {},
     "output_type": "execute_result"
    }
   ],
   "source": [
    "transformer.fit_transform(X_train).shape"
   ]
  },
  {
   "cell_type": "code",
   "execution_count": 28,
   "id": "5881e9c9",
   "metadata": {},
   "outputs": [
    {
     "data": {
      "text/plain": [
       "(20, 7)"
      ]
     },
     "execution_count": 28,
     "metadata": {},
     "output_type": "execute_result"
    }
   ],
   "source": [
    "transformer.transform(X_test).shape"
   ]
  },
  {
   "cell_type": "code",
   "execution_count": null,
   "id": "bc0a7d4f",
   "metadata": {},
   "outputs": [],
   "source": []
  },
  {
   "cell_type": "raw",
   "id": "c1d0e3b5",
   "metadata": {},
   "source": []
  },
  {
   "cell_type": "raw",
   "id": "1a9544c2",
   "metadata": {},
   "source": []
  }
 ],
 "metadata": {
  "kernelspec": {
   "display_name": "Python 3",
   "language": "python",
   "name": "python3"
  },
  "language_info": {
   "codemirror_mode": {
    "name": "ipython",
    "version": 3
   },
   "file_extension": ".py",
   "mimetype": "text/x-python",
   "name": "python",
   "nbconvert_exporter": "python",
   "pygments_lexer": "ipython3",
   "version": "3.9.7"
  }
 },
 "nbformat": 4,
 "nbformat_minor": 5
}
