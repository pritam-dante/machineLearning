{
 "cells": [
  {
   "cell_type": "code",
   "execution_count": 1,
   "id": "66156573",
   "metadata": {},
   "outputs": [],
   "source": [
    "import numpy as np\n",
    "import pandas as pd"
   ]
  },
  {
   "cell_type": "code",
   "execution_count": 2,
   "id": "5664ee20",
   "metadata": {},
   "outputs": [],
   "source": [
    "from sklearn.model_selection import train_test_split\n",
    "from sklearn.compose import ColumnTransformer\n",
    "from sklearn.impute import SimpleImputer\n",
    "from sklearn.preprocessing import OneHotEncoder\n",
    "from sklearn.preprocessing import MinMaxScaler\n",
    "from sklearn.pipeline import Pipeline,make_pipeline\n",
    "from sklearn.feature_selection import SelectKBest,chi2\n",
    "from sklearn.tree import DecisionTreeClassifier"
   ]
  },
  {
   "cell_type": "code",
   "execution_count": 3,
   "id": "b928747f",
   "metadata": {},
   "outputs": [],
   "source": [
    "df = pd.read_csv('titanic.csv')"
   ]
  },
  {
   "cell_type": "code",
   "execution_count": 4,
   "id": "775f2571",
   "metadata": {},
   "outputs": [
    {
     "data": {
      "text/html": [
       "<div>\n",
       "<style scoped>\n",
       "    .dataframe tbody tr th:only-of-type {\n",
       "        vertical-align: middle;\n",
       "    }\n",
       "\n",
       "    .dataframe tbody tr th {\n",
       "        vertical-align: top;\n",
       "    }\n",
       "\n",
       "    .dataframe thead th {\n",
       "        text-align: right;\n",
       "    }\n",
       "</style>\n",
       "<table border=\"1\" class=\"dataframe\">\n",
       "  <thead>\n",
       "    <tr style=\"text-align: right;\">\n",
       "      <th></th>\n",
       "      <th>PassengerId</th>\n",
       "      <th>Survived</th>\n",
       "      <th>Pclass</th>\n",
       "      <th>Name</th>\n",
       "      <th>Sex</th>\n",
       "      <th>Age</th>\n",
       "      <th>SibSp</th>\n",
       "      <th>Parch</th>\n",
       "      <th>Ticket</th>\n",
       "      <th>Fare</th>\n",
       "      <th>Cabin</th>\n",
       "      <th>Embarked</th>\n",
       "    </tr>\n",
       "  </thead>\n",
       "  <tbody>\n",
       "    <tr>\n",
       "      <th>681</th>\n",
       "      <td>682</td>\n",
       "      <td>1</td>\n",
       "      <td>1</td>\n",
       "      <td>Hassab, Mr. Hammad</td>\n",
       "      <td>male</td>\n",
       "      <td>27.0</td>\n",
       "      <td>0</td>\n",
       "      <td>0</td>\n",
       "      <td>PC 17572</td>\n",
       "      <td>76.7292</td>\n",
       "      <td>D49</td>\n",
       "      <td>C</td>\n",
       "    </tr>\n",
       "  </tbody>\n",
       "</table>\n",
       "</div>"
      ],
      "text/plain": [
       "     PassengerId  Survived  Pclass                Name   Sex   Age  SibSp  \\\n",
       "681          682         1       1  Hassab, Mr. Hammad  male  27.0      0   \n",
       "\n",
       "     Parch    Ticket     Fare Cabin Embarked  \n",
       "681      0  PC 17572  76.7292   D49        C  "
      ]
     },
     "execution_count": 4,
     "metadata": {},
     "output_type": "execute_result"
    }
   ],
   "source": [
    "df.sample()"
   ]
  },
  {
   "cell_type": "code",
   "execution_count": 6,
   "id": "b056fbcc",
   "metadata": {},
   "outputs": [],
   "source": [
    "df.drop(columns=['PassengerId','Name','Ticket','Cabin'],inplace=True)"
   ]
  },
  {
   "cell_type": "code",
   "execution_count": 7,
   "id": "99d3ce87",
   "metadata": {},
   "outputs": [
    {
     "data": {
      "text/html": [
       "<div>\n",
       "<style scoped>\n",
       "    .dataframe tbody tr th:only-of-type {\n",
       "        vertical-align: middle;\n",
       "    }\n",
       "\n",
       "    .dataframe tbody tr th {\n",
       "        vertical-align: top;\n",
       "    }\n",
       "\n",
       "    .dataframe thead th {\n",
       "        text-align: right;\n",
       "    }\n",
       "</style>\n",
       "<table border=\"1\" class=\"dataframe\">\n",
       "  <thead>\n",
       "    <tr style=\"text-align: right;\">\n",
       "      <th></th>\n",
       "      <th>Survived</th>\n",
       "      <th>Pclass</th>\n",
       "      <th>Sex</th>\n",
       "      <th>Age</th>\n",
       "      <th>SibSp</th>\n",
       "      <th>Parch</th>\n",
       "      <th>Fare</th>\n",
       "      <th>Embarked</th>\n",
       "    </tr>\n",
       "  </thead>\n",
       "  <tbody>\n",
       "    <tr>\n",
       "      <th>840</th>\n",
       "      <td>0</td>\n",
       "      <td>3</td>\n",
       "      <td>male</td>\n",
       "      <td>20.0</td>\n",
       "      <td>0</td>\n",
       "      <td>0</td>\n",
       "      <td>7.925</td>\n",
       "      <td>S</td>\n",
       "    </tr>\n",
       "  </tbody>\n",
       "</table>\n",
       "</div>"
      ],
      "text/plain": [
       "     Survived  Pclass   Sex   Age  SibSp  Parch   Fare Embarked\n",
       "840         0       3  male  20.0      0      0  7.925        S"
      ]
     },
     "execution_count": 7,
     "metadata": {},
     "output_type": "execute_result"
    }
   ],
   "source": [
    "df.sample()"
   ]
  },
  {
   "cell_type": "code",
   "execution_count": 8,
   "id": "acbd6b92",
   "metadata": {},
   "outputs": [],
   "source": [
    "#step1 -->train/test/split\n",
    "X_train,X_test,y_train,y_test = train_test_split(df.drop(columns=['Survived']),df['Survived'],test_size=0.2,random_state=43)"
   ]
  },
  {
   "cell_type": "code",
   "execution_count": 9,
   "id": "2e338ff4",
   "metadata": {},
   "outputs": [
    {
     "data": {
      "text/plain": [
       "(712, 7)"
      ]
     },
     "execution_count": 9,
     "metadata": {},
     "output_type": "execute_result"
    }
   ],
   "source": [
    "X_train.shape"
   ]
  },
  {
   "cell_type": "code",
   "execution_count": 10,
   "id": "97b854d4",
   "metadata": {},
   "outputs": [
    {
     "data": {
      "text/html": [
       "<div>\n",
       "<style scoped>\n",
       "    .dataframe tbody tr th:only-of-type {\n",
       "        vertical-align: middle;\n",
       "    }\n",
       "\n",
       "    .dataframe tbody tr th {\n",
       "        vertical-align: top;\n",
       "    }\n",
       "\n",
       "    .dataframe thead th {\n",
       "        text-align: right;\n",
       "    }\n",
       "</style>\n",
       "<table border=\"1\" class=\"dataframe\">\n",
       "  <thead>\n",
       "    <tr style=\"text-align: right;\">\n",
       "      <th></th>\n",
       "      <th>Pclass</th>\n",
       "      <th>Sex</th>\n",
       "      <th>Age</th>\n",
       "      <th>SibSp</th>\n",
       "      <th>Parch</th>\n",
       "      <th>Fare</th>\n",
       "      <th>Embarked</th>\n",
       "    </tr>\n",
       "  </thead>\n",
       "  <tbody>\n",
       "    <tr>\n",
       "      <th>826</th>\n",
       "      <td>3</td>\n",
       "      <td>male</td>\n",
       "      <td>NaN</td>\n",
       "      <td>0</td>\n",
       "      <td>0</td>\n",
       "      <td>56.4958</td>\n",
       "      <td>S</td>\n",
       "    </tr>\n",
       "    <tr>\n",
       "      <th>838</th>\n",
       "      <td>3</td>\n",
       "      <td>male</td>\n",
       "      <td>32.0</td>\n",
       "      <td>0</td>\n",
       "      <td>0</td>\n",
       "      <td>56.4958</td>\n",
       "      <td>S</td>\n",
       "    </tr>\n",
       "  </tbody>\n",
       "</table>\n",
       "</div>"
      ],
      "text/plain": [
       "     Pclass   Sex   Age  SibSp  Parch     Fare Embarked\n",
       "826       3  male   NaN      0      0  56.4958        S\n",
       "838       3  male  32.0      0      0  56.4958        S"
      ]
     },
     "execution_count": 10,
     "metadata": {},
     "output_type": "execute_result"
    }
   ],
   "source": [
    "X_train.head(2)"
   ]
  },
  {
   "cell_type": "code",
   "execution_count": 11,
   "id": "ffdcb8e6",
   "metadata": {},
   "outputs": [],
   "source": [
    "#imputation Transformer\n",
    "trf1 = ColumnTransformer([\n",
    "    ('impute_age',SimpleImputer(),[2]), #always a better practice to go through index number\n",
    "    ('impute_embarked',SimpleImputer(strategy='most_frequent'),[6])\n",
    "],remainder='passthrough')"
   ]
  },
  {
   "cell_type": "code",
   "execution_count": 12,
   "id": "42169d2d",
   "metadata": {},
   "outputs": [],
   "source": [
    "#onehotEncoding\n",
    "trf2 = ColumnTransformer([\n",
    "    ('ohe_sex_embarked',OneHotEncoder(sparse=False,handle_unknown='ignore'),[1,6])\n",
    "],remainder='passthrough')"
   ]
  },
  {
   "cell_type": "code",
   "execution_count": 13,
   "id": "a5b35114",
   "metadata": {},
   "outputs": [],
   "source": [
    "#scaling\n",
    "trf3 = ColumnTransformer([\n",
    "    ('scale',MinMaxScaler(),slice(1,10))#we will get 10 columns after column transfer\n",
    "])"
   ]
  },
  {
   "cell_type": "code",
   "execution_count": 14,
   "id": "218d1f21",
   "metadata": {},
   "outputs": [],
   "source": [
    "#feature Selection\n",
    "trf4 = SelectKBest(score_func=chi2,k=6) #k can be anything...select best out of all"
   ]
  },
  {
   "cell_type": "code",
   "execution_count": 15,
   "id": "bba71f93",
   "metadata": {},
   "outputs": [],
   "source": [
    "#train this model\n",
    "trf5 = DecisionTreeClassifier()"
   ]
  },
  {
   "cell_type": "markdown",
   "id": "d582bcd2",
   "metadata": {},
   "source": [
    "# Create Pipeline"
   ]
  },
  {
   "cell_type": "code",
   "execution_count": 19,
   "id": "cf3d619f",
   "metadata": {},
   "outputs": [],
   "source": [
    "#display pipeline\n",
    "from sklearn import set_config\n",
    "set_config(display='diagram')"
   ]
  },
  {
   "cell_type": "code",
   "execution_count": 20,
   "id": "048cdaa0",
   "metadata": {},
   "outputs": [],
   "source": [
    "pipe = Pipeline([\n",
    "    ('trf1',trf1),\n",
    "    ('trf2',trf2),\n",
    "    ('trf3',trf3),\n",
    "    ('trf4',trf4),\n",
    "    ('trf5',trf5)\n",
    "])"
   ]
  },
  {
   "cell_type": "markdown",
   "id": "6e959458",
   "metadata": {},
   "source": [
    "# Pipeline vs make_pipeline\n",
    "\n",
    "## Pipeline requires naming of steps, make_pipeline does not.\n",
    "## Same applies to ColumnTransformer vs make_column_transformer"
   ]
  },
  {
   "cell_type": "code",
   "execution_count": 21,
   "id": "5755cfbc",
   "metadata": {},
   "outputs": [],
   "source": [
    "#alternate syntax\n",
    "pipe1 = make_pipeline(trf1,trf2,trf3,trf4,trf5)"
   ]
  },
  {
   "cell_type": "code",
   "execution_count": 22,
   "id": "c7ea5d0f",
   "metadata": {},
   "outputs": [
    {
     "data": {
      "text/html": [
       "<style>#sk-e9d38a37-ad49-477b-9385-8c3916b61a4c {color: black;background-color: white;}#sk-e9d38a37-ad49-477b-9385-8c3916b61a4c pre{padding: 0;}#sk-e9d38a37-ad49-477b-9385-8c3916b61a4c div.sk-toggleable {background-color: white;}#sk-e9d38a37-ad49-477b-9385-8c3916b61a4c label.sk-toggleable__label {cursor: pointer;display: block;width: 100%;margin-bottom: 0;padding: 0.2em 0.3em;box-sizing: border-box;text-align: center;}#sk-e9d38a37-ad49-477b-9385-8c3916b61a4c div.sk-toggleable__content {max-height: 0;max-width: 0;overflow: hidden;text-align: left;background-color: #f0f8ff;}#sk-e9d38a37-ad49-477b-9385-8c3916b61a4c div.sk-toggleable__content pre {margin: 0.2em;color: black;border-radius: 0.25em;background-color: #f0f8ff;}#sk-e9d38a37-ad49-477b-9385-8c3916b61a4c input.sk-toggleable__control:checked~div.sk-toggleable__content {max-height: 200px;max-width: 100%;overflow: auto;}#sk-e9d38a37-ad49-477b-9385-8c3916b61a4c div.sk-estimator input.sk-toggleable__control:checked~label.sk-toggleable__label {background-color: #d4ebff;}#sk-e9d38a37-ad49-477b-9385-8c3916b61a4c div.sk-label input.sk-toggleable__control:checked~label.sk-toggleable__label {background-color: #d4ebff;}#sk-e9d38a37-ad49-477b-9385-8c3916b61a4c input.sk-hidden--visually {border: 0;clip: rect(1px 1px 1px 1px);clip: rect(1px, 1px, 1px, 1px);height: 1px;margin: -1px;overflow: hidden;padding: 0;position: absolute;width: 1px;}#sk-e9d38a37-ad49-477b-9385-8c3916b61a4c div.sk-estimator {font-family: monospace;background-color: #f0f8ff;margin: 0.25em 0.25em;border: 1px dotted black;border-radius: 0.25em;box-sizing: border-box;}#sk-e9d38a37-ad49-477b-9385-8c3916b61a4c div.sk-estimator:hover {background-color: #d4ebff;}#sk-e9d38a37-ad49-477b-9385-8c3916b61a4c div.sk-parallel-item::after {content: \"\";width: 100%;border-bottom: 1px solid gray;flex-grow: 1;}#sk-e9d38a37-ad49-477b-9385-8c3916b61a4c div.sk-label:hover label.sk-toggleable__label {background-color: #d4ebff;}#sk-e9d38a37-ad49-477b-9385-8c3916b61a4c div.sk-serial::before {content: \"\";position: absolute;border-left: 1px solid gray;box-sizing: border-box;top: 2em;bottom: 0;left: 50%;}#sk-e9d38a37-ad49-477b-9385-8c3916b61a4c div.sk-serial {display: flex;flex-direction: column;align-items: center;background-color: white;}#sk-e9d38a37-ad49-477b-9385-8c3916b61a4c div.sk-item {z-index: 1;}#sk-e9d38a37-ad49-477b-9385-8c3916b61a4c div.sk-parallel {display: flex;align-items: stretch;justify-content: center;background-color: white;}#sk-e9d38a37-ad49-477b-9385-8c3916b61a4c div.sk-parallel-item {display: flex;flex-direction: column;position: relative;background-color: white;}#sk-e9d38a37-ad49-477b-9385-8c3916b61a4c div.sk-parallel-item:first-child::after {align-self: flex-end;width: 50%;}#sk-e9d38a37-ad49-477b-9385-8c3916b61a4c div.sk-parallel-item:last-child::after {align-self: flex-start;width: 50%;}#sk-e9d38a37-ad49-477b-9385-8c3916b61a4c div.sk-parallel-item:only-child::after {width: 0;}#sk-e9d38a37-ad49-477b-9385-8c3916b61a4c div.sk-dashed-wrapped {border: 1px dashed gray;margin: 0.2em;box-sizing: border-box;padding-bottom: 0.1em;background-color: white;position: relative;}#sk-e9d38a37-ad49-477b-9385-8c3916b61a4c div.sk-label label {font-family: monospace;font-weight: bold;background-color: white;display: inline-block;line-height: 1.2em;}#sk-e9d38a37-ad49-477b-9385-8c3916b61a4c div.sk-label-container {position: relative;z-index: 2;text-align: center;}#sk-e9d38a37-ad49-477b-9385-8c3916b61a4c div.sk-container {display: inline-block;position: relative;}</style><div id=\"sk-e9d38a37-ad49-477b-9385-8c3916b61a4c\" class\"sk-top-container\"><div class=\"sk-container\"><div class=\"sk-item sk-dashed-wrapped\"><div class=\"sk-label-container\"><div class=\"sk-label sk-toggleable\"><input class=\"sk-toggleable__control sk-hidden--visually\" id=\"e022c48c-7fe3-43c0-9b58-67a3c57efd16\" type=\"checkbox\" ><label class=\"sk-toggleable__label\" for=\"e022c48c-7fe3-43c0-9b58-67a3c57efd16\">Pipeline</label><div class=\"sk-toggleable__content\"><pre>Pipeline(steps=[('trf1',\n",
       "                 ColumnTransformer(remainder='passthrough',\n",
       "                                   transformers=[('impute_age', SimpleImputer(),\n",
       "                                                  [2]),\n",
       "                                                 ('impute_embarked',\n",
       "                                                  SimpleImputer(strategy='most_frequent'),\n",
       "                                                  [6])])),\n",
       "                ('trf2',\n",
       "                 ColumnTransformer(remainder='passthrough',\n",
       "                                   transformers=[('ohe_sex_embarked',\n",
       "                                                  OneHotEncoder(handle_unknown='ignore',\n",
       "                                                                sparse=False),\n",
       "                                                  [1, 6])])),\n",
       "                ('trf3',\n",
       "                 ColumnTransformer(transformers=[('scale', MinMaxScaler(),\n",
       "                                                  slice(1, 10, None))])),\n",
       "                ('trf4',\n",
       "                 SelectKBest(k=6,\n",
       "                             score_func=<function chi2 at 0x7f20358cb5e0>)),\n",
       "                ('trf5', DecisionTreeClassifier())])</pre></div></div></div><div class=\"sk-serial\"><div class=\"sk-item sk-dashed-wrapped\"><div class=\"sk-label-container\"><div class=\"sk-label sk-toggleable\"><input class=\"sk-toggleable__control sk-hidden--visually\" id=\"5876a6bd-ea47-4ee2-8d58-ff586b7ee3d6\" type=\"checkbox\" ><label class=\"sk-toggleable__label\" for=\"5876a6bd-ea47-4ee2-8d58-ff586b7ee3d6\">trf1: ColumnTransformer</label><div class=\"sk-toggleable__content\"><pre>ColumnTransformer(remainder='passthrough',\n",
       "                  transformers=[('impute_age', SimpleImputer(), [2]),\n",
       "                                ('impute_embarked',\n",
       "                                 SimpleImputer(strategy='most_frequent'),\n",
       "                                 [6])])</pre></div></div></div><div class=\"sk-parallel\"><div class=\"sk-parallel-item\"><div class=\"sk-item\"><div class=\"sk-label-container\"><div class=\"sk-label sk-toggleable\"><input class=\"sk-toggleable__control sk-hidden--visually\" id=\"ea84409f-c876-4409-867c-47397d1d478d\" type=\"checkbox\" ><label class=\"sk-toggleable__label\" for=\"ea84409f-c876-4409-867c-47397d1d478d\">impute_age</label><div class=\"sk-toggleable__content\"><pre>[2]</pre></div></div></div><div class=\"sk-serial\"><div class=\"sk-item\"><div class=\"sk-estimator sk-toggleable\"><input class=\"sk-toggleable__control sk-hidden--visually\" id=\"257ac6f8-3df6-44da-a25d-14bb13acbe61\" type=\"checkbox\" ><label class=\"sk-toggleable__label\" for=\"257ac6f8-3df6-44da-a25d-14bb13acbe61\">SimpleImputer</label><div class=\"sk-toggleable__content\"><pre>SimpleImputer()</pre></div></div></div></div></div></div><div class=\"sk-parallel-item\"><div class=\"sk-item\"><div class=\"sk-label-container\"><div class=\"sk-label sk-toggleable\"><input class=\"sk-toggleable__control sk-hidden--visually\" id=\"10cde34c-5081-4fa0-97a9-fa118e38508d\" type=\"checkbox\" ><label class=\"sk-toggleable__label\" for=\"10cde34c-5081-4fa0-97a9-fa118e38508d\">impute_embarked</label><div class=\"sk-toggleable__content\"><pre>[6]</pre></div></div></div><div class=\"sk-serial\"><div class=\"sk-item\"><div class=\"sk-estimator sk-toggleable\"><input class=\"sk-toggleable__control sk-hidden--visually\" id=\"27b53075-53c1-48a5-b69d-7f59ae245cef\" type=\"checkbox\" ><label class=\"sk-toggleable__label\" for=\"27b53075-53c1-48a5-b69d-7f59ae245cef\">SimpleImputer</label><div class=\"sk-toggleable__content\"><pre>SimpleImputer(strategy='most_frequent')</pre></div></div></div></div></div></div><div class=\"sk-parallel-item\"><div class=\"sk-item\"><div class=\"sk-label-container\"><div class=\"sk-label sk-toggleable\"><input class=\"sk-toggleable__control sk-hidden--visually\" id=\"0b8a5aaf-1f9b-4564-b6b3-290a9b1d9b01\" type=\"checkbox\" ><label class=\"sk-toggleable__label\" for=\"0b8a5aaf-1f9b-4564-b6b3-290a9b1d9b01\">remainder</label><div class=\"sk-toggleable__content\"><pre></pre></div></div></div><div class=\"sk-serial\"><div class=\"sk-item\"><div class=\"sk-estimator sk-toggleable\"><input class=\"sk-toggleable__control sk-hidden--visually\" id=\"03cdbf7c-cbcc-4d93-ac26-24f977edeb59\" type=\"checkbox\" ><label class=\"sk-toggleable__label\" for=\"03cdbf7c-cbcc-4d93-ac26-24f977edeb59\">passthrough</label><div class=\"sk-toggleable__content\"><pre>passthrough</pre></div></div></div></div></div></div></div></div><div class=\"sk-item sk-dashed-wrapped\"><div class=\"sk-label-container\"><div class=\"sk-label sk-toggleable\"><input class=\"sk-toggleable__control sk-hidden--visually\" id=\"ca8a676a-bce4-497e-ad71-a2683acc1d59\" type=\"checkbox\" ><label class=\"sk-toggleable__label\" for=\"ca8a676a-bce4-497e-ad71-a2683acc1d59\">trf2: ColumnTransformer</label><div class=\"sk-toggleable__content\"><pre>ColumnTransformer(remainder='passthrough',\n",
       "                  transformers=[('ohe_sex_embarked',\n",
       "                                 OneHotEncoder(handle_unknown='ignore',\n",
       "                                               sparse=False),\n",
       "                                 [1, 6])])</pre></div></div></div><div class=\"sk-parallel\"><div class=\"sk-parallel-item\"><div class=\"sk-item\"><div class=\"sk-label-container\"><div class=\"sk-label sk-toggleable\"><input class=\"sk-toggleable__control sk-hidden--visually\" id=\"d0255d9e-8849-4670-b84b-e142d7d0e276\" type=\"checkbox\" ><label class=\"sk-toggleable__label\" for=\"d0255d9e-8849-4670-b84b-e142d7d0e276\">ohe_sex_embarked</label><div class=\"sk-toggleable__content\"><pre>[1, 6]</pre></div></div></div><div class=\"sk-serial\"><div class=\"sk-item\"><div class=\"sk-estimator sk-toggleable\"><input class=\"sk-toggleable__control sk-hidden--visually\" id=\"b4f0dda4-c4ec-40d7-b118-1583edd0fd58\" type=\"checkbox\" ><label class=\"sk-toggleable__label\" for=\"b4f0dda4-c4ec-40d7-b118-1583edd0fd58\">OneHotEncoder</label><div class=\"sk-toggleable__content\"><pre>OneHotEncoder(handle_unknown='ignore', sparse=False)</pre></div></div></div></div></div></div><div class=\"sk-parallel-item\"><div class=\"sk-item\"><div class=\"sk-label-container\"><div class=\"sk-label sk-toggleable\"><input class=\"sk-toggleable__control sk-hidden--visually\" id=\"4d7da95c-f48c-4feb-9b11-058caf34b032\" type=\"checkbox\" ><label class=\"sk-toggleable__label\" for=\"4d7da95c-f48c-4feb-9b11-058caf34b032\">remainder</label><div class=\"sk-toggleable__content\"><pre></pre></div></div></div><div class=\"sk-serial\"><div class=\"sk-item\"><div class=\"sk-estimator sk-toggleable\"><input class=\"sk-toggleable__control sk-hidden--visually\" id=\"fab6d312-2b6d-40f4-aa83-b3c9b9963f80\" type=\"checkbox\" ><label class=\"sk-toggleable__label\" for=\"fab6d312-2b6d-40f4-aa83-b3c9b9963f80\">passthrough</label><div class=\"sk-toggleable__content\"><pre>passthrough</pre></div></div></div></div></div></div></div></div><div class=\"sk-item sk-dashed-wrapped\"><div class=\"sk-label-container\"><div class=\"sk-label sk-toggleable\"><input class=\"sk-toggleable__control sk-hidden--visually\" id=\"cac92d86-58d3-4811-b042-512d51c86963\" type=\"checkbox\" ><label class=\"sk-toggleable__label\" for=\"cac92d86-58d3-4811-b042-512d51c86963\">trf3: ColumnTransformer</label><div class=\"sk-toggleable__content\"><pre>ColumnTransformer(transformers=[('scale', MinMaxScaler(), slice(1, 10, None))])</pre></div></div></div><div class=\"sk-parallel\"><div class=\"sk-parallel-item\"><div class=\"sk-item\"><div class=\"sk-label-container\"><div class=\"sk-label sk-toggleable\"><input class=\"sk-toggleable__control sk-hidden--visually\" id=\"2eaa32e8-3d93-4c3c-a233-0f5d1edfadf6\" type=\"checkbox\" ><label class=\"sk-toggleable__label\" for=\"2eaa32e8-3d93-4c3c-a233-0f5d1edfadf6\">scale</label><div class=\"sk-toggleable__content\"><pre>slice(1, 10, None)</pre></div></div></div><div class=\"sk-serial\"><div class=\"sk-item\"><div class=\"sk-estimator sk-toggleable\"><input class=\"sk-toggleable__control sk-hidden--visually\" id=\"6ca384c7-e1f9-4213-94e5-09605872abf3\" type=\"checkbox\" ><label class=\"sk-toggleable__label\" for=\"6ca384c7-e1f9-4213-94e5-09605872abf3\">MinMaxScaler</label><div class=\"sk-toggleable__content\"><pre>MinMaxScaler()</pre></div></div></div></div></div></div></div></div><div class=\"sk-item\"><div class=\"sk-estimator sk-toggleable\"><input class=\"sk-toggleable__control sk-hidden--visually\" id=\"8a30ed25-8bab-4128-8fe7-1d6d1ce2ae55\" type=\"checkbox\" ><label class=\"sk-toggleable__label\" for=\"8a30ed25-8bab-4128-8fe7-1d6d1ce2ae55\">SelectKBest</label><div class=\"sk-toggleable__content\"><pre>SelectKBest(k=6, score_func=<function chi2 at 0x7f20358cb5e0>)</pre></div></div></div><div class=\"sk-item\"><div class=\"sk-estimator sk-toggleable\"><input class=\"sk-toggleable__control sk-hidden--visually\" id=\"7a459f27-c6da-4ce6-96b9-0e28d375491c\" type=\"checkbox\" ><label class=\"sk-toggleable__label\" for=\"7a459f27-c6da-4ce6-96b9-0e28d375491c\">DecisionTreeClassifier</label><div class=\"sk-toggleable__content\"><pre>DecisionTreeClassifier()</pre></div></div></div></div></div></div></div>"
      ],
      "text/plain": [
       "Pipeline(steps=[('trf1',\n",
       "                 ColumnTransformer(remainder='passthrough',\n",
       "                                   transformers=[('impute_age', SimpleImputer(),\n",
       "                                                  [2]),\n",
       "                                                 ('impute_embarked',\n",
       "                                                  SimpleImputer(strategy='most_frequent'),\n",
       "                                                  [6])])),\n",
       "                ('trf2',\n",
       "                 ColumnTransformer(remainder='passthrough',\n",
       "                                   transformers=[('ohe_sex_embarked',\n",
       "                                                  OneHotEncoder(handle_unknown='ignore',\n",
       "                                                                sparse=False),\n",
       "                                                  [1, 6])])),\n",
       "                ('trf3',\n",
       "                 ColumnTransformer(transformers=[('scale', MinMaxScaler(),\n",
       "                                                  slice(1, 10, None))])),\n",
       "                ('trf4',\n",
       "                 SelectKBest(k=6,\n",
       "                             score_func=<function chi2 at 0x7f20358cb5e0>)),\n",
       "                ('trf5', DecisionTreeClassifier())])"
      ]
     },
     "execution_count": 22,
     "metadata": {},
     "output_type": "execute_result"
    }
   ],
   "source": [
    "pipe\n"
   ]
  },
  {
   "cell_type": "code",
   "execution_count": 23,
   "id": "d1c0095d",
   "metadata": {},
   "outputs": [
    {
     "data": {
      "text/html": [
       "<style>#sk-2ca49a56-cce3-4a44-a791-ea5d902d3a9e {color: black;background-color: white;}#sk-2ca49a56-cce3-4a44-a791-ea5d902d3a9e pre{padding: 0;}#sk-2ca49a56-cce3-4a44-a791-ea5d902d3a9e div.sk-toggleable {background-color: white;}#sk-2ca49a56-cce3-4a44-a791-ea5d902d3a9e label.sk-toggleable__label {cursor: pointer;display: block;width: 100%;margin-bottom: 0;padding: 0.2em 0.3em;box-sizing: border-box;text-align: center;}#sk-2ca49a56-cce3-4a44-a791-ea5d902d3a9e div.sk-toggleable__content {max-height: 0;max-width: 0;overflow: hidden;text-align: left;background-color: #f0f8ff;}#sk-2ca49a56-cce3-4a44-a791-ea5d902d3a9e div.sk-toggleable__content pre {margin: 0.2em;color: black;border-radius: 0.25em;background-color: #f0f8ff;}#sk-2ca49a56-cce3-4a44-a791-ea5d902d3a9e input.sk-toggleable__control:checked~div.sk-toggleable__content {max-height: 200px;max-width: 100%;overflow: auto;}#sk-2ca49a56-cce3-4a44-a791-ea5d902d3a9e div.sk-estimator input.sk-toggleable__control:checked~label.sk-toggleable__label {background-color: #d4ebff;}#sk-2ca49a56-cce3-4a44-a791-ea5d902d3a9e div.sk-label input.sk-toggleable__control:checked~label.sk-toggleable__label {background-color: #d4ebff;}#sk-2ca49a56-cce3-4a44-a791-ea5d902d3a9e input.sk-hidden--visually {border: 0;clip: rect(1px 1px 1px 1px);clip: rect(1px, 1px, 1px, 1px);height: 1px;margin: -1px;overflow: hidden;padding: 0;position: absolute;width: 1px;}#sk-2ca49a56-cce3-4a44-a791-ea5d902d3a9e div.sk-estimator {font-family: monospace;background-color: #f0f8ff;margin: 0.25em 0.25em;border: 1px dotted black;border-radius: 0.25em;box-sizing: border-box;}#sk-2ca49a56-cce3-4a44-a791-ea5d902d3a9e div.sk-estimator:hover {background-color: #d4ebff;}#sk-2ca49a56-cce3-4a44-a791-ea5d902d3a9e div.sk-parallel-item::after {content: \"\";width: 100%;border-bottom: 1px solid gray;flex-grow: 1;}#sk-2ca49a56-cce3-4a44-a791-ea5d902d3a9e div.sk-label:hover label.sk-toggleable__label {background-color: #d4ebff;}#sk-2ca49a56-cce3-4a44-a791-ea5d902d3a9e div.sk-serial::before {content: \"\";position: absolute;border-left: 1px solid gray;box-sizing: border-box;top: 2em;bottom: 0;left: 50%;}#sk-2ca49a56-cce3-4a44-a791-ea5d902d3a9e div.sk-serial {display: flex;flex-direction: column;align-items: center;background-color: white;}#sk-2ca49a56-cce3-4a44-a791-ea5d902d3a9e div.sk-item {z-index: 1;}#sk-2ca49a56-cce3-4a44-a791-ea5d902d3a9e div.sk-parallel {display: flex;align-items: stretch;justify-content: center;background-color: white;}#sk-2ca49a56-cce3-4a44-a791-ea5d902d3a9e div.sk-parallel-item {display: flex;flex-direction: column;position: relative;background-color: white;}#sk-2ca49a56-cce3-4a44-a791-ea5d902d3a9e div.sk-parallel-item:first-child::after {align-self: flex-end;width: 50%;}#sk-2ca49a56-cce3-4a44-a791-ea5d902d3a9e div.sk-parallel-item:last-child::after {align-self: flex-start;width: 50%;}#sk-2ca49a56-cce3-4a44-a791-ea5d902d3a9e div.sk-parallel-item:only-child::after {width: 0;}#sk-2ca49a56-cce3-4a44-a791-ea5d902d3a9e div.sk-dashed-wrapped {border: 1px dashed gray;margin: 0.2em;box-sizing: border-box;padding-bottom: 0.1em;background-color: white;position: relative;}#sk-2ca49a56-cce3-4a44-a791-ea5d902d3a9e div.sk-label label {font-family: monospace;font-weight: bold;background-color: white;display: inline-block;line-height: 1.2em;}#sk-2ca49a56-cce3-4a44-a791-ea5d902d3a9e div.sk-label-container {position: relative;z-index: 2;text-align: center;}#sk-2ca49a56-cce3-4a44-a791-ea5d902d3a9e div.sk-container {display: inline-block;position: relative;}</style><div id=\"sk-2ca49a56-cce3-4a44-a791-ea5d902d3a9e\" class\"sk-top-container\"><div class=\"sk-container\"><div class=\"sk-item sk-dashed-wrapped\"><div class=\"sk-label-container\"><div class=\"sk-label sk-toggleable\"><input class=\"sk-toggleable__control sk-hidden--visually\" id=\"872b6ca4-1fcf-4af2-9827-60a83be9a169\" type=\"checkbox\" ><label class=\"sk-toggleable__label\" for=\"872b6ca4-1fcf-4af2-9827-60a83be9a169\">Pipeline</label><div class=\"sk-toggleable__content\"><pre>Pipeline(steps=[('columntransformer-1',\n",
       "                 ColumnTransformer(remainder='passthrough',\n",
       "                                   transformers=[('impute_age', SimpleImputer(),\n",
       "                                                  [2]),\n",
       "                                                 ('impute_embarked',\n",
       "                                                  SimpleImputer(strategy='most_frequent'),\n",
       "                                                  [6])])),\n",
       "                ('columntransformer-2',\n",
       "                 ColumnTransformer(remainder='passthrough',\n",
       "                                   transformers=[('ohe_sex_embarked',\n",
       "                                                  OneHotEncoder(handle_unknown='ignore',\n",
       "                                                                sparse=False),\n",
       "                                                  [1, 6])])),\n",
       "                ('columntransformer-3',\n",
       "                 ColumnTransformer(transformers=[('scale', MinMaxScaler(),\n",
       "                                                  slice(1, 10, None))])),\n",
       "                ('selectkbest',\n",
       "                 SelectKBest(k=6,\n",
       "                             score_func=<function chi2 at 0x7f20358cb5e0>)),\n",
       "                ('decisiontreeclassifier', DecisionTreeClassifier())])</pre></div></div></div><div class=\"sk-serial\"><div class=\"sk-item sk-dashed-wrapped\"><div class=\"sk-label-container\"><div class=\"sk-label sk-toggleable\"><input class=\"sk-toggleable__control sk-hidden--visually\" id=\"29919339-d466-466c-8478-d5fccbb65e90\" type=\"checkbox\" ><label class=\"sk-toggleable__label\" for=\"29919339-d466-466c-8478-d5fccbb65e90\">columntransformer-1: ColumnTransformer</label><div class=\"sk-toggleable__content\"><pre>ColumnTransformer(remainder='passthrough',\n",
       "                  transformers=[('impute_age', SimpleImputer(), [2]),\n",
       "                                ('impute_embarked',\n",
       "                                 SimpleImputer(strategy='most_frequent'),\n",
       "                                 [6])])</pre></div></div></div><div class=\"sk-parallel\"><div class=\"sk-parallel-item\"><div class=\"sk-item\"><div class=\"sk-label-container\"><div class=\"sk-label sk-toggleable\"><input class=\"sk-toggleable__control sk-hidden--visually\" id=\"4a74055e-d22e-43bb-b2da-dde1c14deade\" type=\"checkbox\" ><label class=\"sk-toggleable__label\" for=\"4a74055e-d22e-43bb-b2da-dde1c14deade\">impute_age</label><div class=\"sk-toggleable__content\"><pre>[2]</pre></div></div></div><div class=\"sk-serial\"><div class=\"sk-item\"><div class=\"sk-estimator sk-toggleable\"><input class=\"sk-toggleable__control sk-hidden--visually\" id=\"7e666892-8644-4c8d-a04b-7b6c075d6120\" type=\"checkbox\" ><label class=\"sk-toggleable__label\" for=\"7e666892-8644-4c8d-a04b-7b6c075d6120\">SimpleImputer</label><div class=\"sk-toggleable__content\"><pre>SimpleImputer()</pre></div></div></div></div></div></div><div class=\"sk-parallel-item\"><div class=\"sk-item\"><div class=\"sk-label-container\"><div class=\"sk-label sk-toggleable\"><input class=\"sk-toggleable__control sk-hidden--visually\" id=\"510bc526-69d9-4a75-858c-bc591fa1d64e\" type=\"checkbox\" ><label class=\"sk-toggleable__label\" for=\"510bc526-69d9-4a75-858c-bc591fa1d64e\">impute_embarked</label><div class=\"sk-toggleable__content\"><pre>[6]</pre></div></div></div><div class=\"sk-serial\"><div class=\"sk-item\"><div class=\"sk-estimator sk-toggleable\"><input class=\"sk-toggleable__control sk-hidden--visually\" id=\"d037f678-b133-42ce-9aa7-167e078aa920\" type=\"checkbox\" ><label class=\"sk-toggleable__label\" for=\"d037f678-b133-42ce-9aa7-167e078aa920\">SimpleImputer</label><div class=\"sk-toggleable__content\"><pre>SimpleImputer(strategy='most_frequent')</pre></div></div></div></div></div></div><div class=\"sk-parallel-item\"><div class=\"sk-item\"><div class=\"sk-label-container\"><div class=\"sk-label sk-toggleable\"><input class=\"sk-toggleable__control sk-hidden--visually\" id=\"ff0f6d1e-8b73-45d0-8f42-71143eee22ac\" type=\"checkbox\" ><label class=\"sk-toggleable__label\" for=\"ff0f6d1e-8b73-45d0-8f42-71143eee22ac\">remainder</label><div class=\"sk-toggleable__content\"><pre></pre></div></div></div><div class=\"sk-serial\"><div class=\"sk-item\"><div class=\"sk-estimator sk-toggleable\"><input class=\"sk-toggleable__control sk-hidden--visually\" id=\"653c16c6-c908-4c80-925f-6f8febf98493\" type=\"checkbox\" ><label class=\"sk-toggleable__label\" for=\"653c16c6-c908-4c80-925f-6f8febf98493\">passthrough</label><div class=\"sk-toggleable__content\"><pre>passthrough</pre></div></div></div></div></div></div></div></div><div class=\"sk-item sk-dashed-wrapped\"><div class=\"sk-label-container\"><div class=\"sk-label sk-toggleable\"><input class=\"sk-toggleable__control sk-hidden--visually\" id=\"42bf7856-222b-48de-9a16-8a4861d68d0c\" type=\"checkbox\" ><label class=\"sk-toggleable__label\" for=\"42bf7856-222b-48de-9a16-8a4861d68d0c\">columntransformer-2: ColumnTransformer</label><div class=\"sk-toggleable__content\"><pre>ColumnTransformer(remainder='passthrough',\n",
       "                  transformers=[('ohe_sex_embarked',\n",
       "                                 OneHotEncoder(handle_unknown='ignore',\n",
       "                                               sparse=False),\n",
       "                                 [1, 6])])</pre></div></div></div><div class=\"sk-parallel\"><div class=\"sk-parallel-item\"><div class=\"sk-item\"><div class=\"sk-label-container\"><div class=\"sk-label sk-toggleable\"><input class=\"sk-toggleable__control sk-hidden--visually\" id=\"fc28ca77-1c93-4436-9eca-0b803778c0b3\" type=\"checkbox\" ><label class=\"sk-toggleable__label\" for=\"fc28ca77-1c93-4436-9eca-0b803778c0b3\">ohe_sex_embarked</label><div class=\"sk-toggleable__content\"><pre>[1, 6]</pre></div></div></div><div class=\"sk-serial\"><div class=\"sk-item\"><div class=\"sk-estimator sk-toggleable\"><input class=\"sk-toggleable__control sk-hidden--visually\" id=\"44eb8e19-0e9d-411f-8860-02a7699706b2\" type=\"checkbox\" ><label class=\"sk-toggleable__label\" for=\"44eb8e19-0e9d-411f-8860-02a7699706b2\">OneHotEncoder</label><div class=\"sk-toggleable__content\"><pre>OneHotEncoder(handle_unknown='ignore', sparse=False)</pre></div></div></div></div></div></div><div class=\"sk-parallel-item\"><div class=\"sk-item\"><div class=\"sk-label-container\"><div class=\"sk-label sk-toggleable\"><input class=\"sk-toggleable__control sk-hidden--visually\" id=\"dfe3057b-8fe4-4b58-8d9c-fc43a60c3e37\" type=\"checkbox\" ><label class=\"sk-toggleable__label\" for=\"dfe3057b-8fe4-4b58-8d9c-fc43a60c3e37\">remainder</label><div class=\"sk-toggleable__content\"><pre></pre></div></div></div><div class=\"sk-serial\"><div class=\"sk-item\"><div class=\"sk-estimator sk-toggleable\"><input class=\"sk-toggleable__control sk-hidden--visually\" id=\"da70ac73-7d4c-4beb-8f5c-2253e8189d7f\" type=\"checkbox\" ><label class=\"sk-toggleable__label\" for=\"da70ac73-7d4c-4beb-8f5c-2253e8189d7f\">passthrough</label><div class=\"sk-toggleable__content\"><pre>passthrough</pre></div></div></div></div></div></div></div></div><div class=\"sk-item sk-dashed-wrapped\"><div class=\"sk-label-container\"><div class=\"sk-label sk-toggleable\"><input class=\"sk-toggleable__control sk-hidden--visually\" id=\"2db34d5a-0378-435d-99c6-003821274885\" type=\"checkbox\" ><label class=\"sk-toggleable__label\" for=\"2db34d5a-0378-435d-99c6-003821274885\">columntransformer-3: ColumnTransformer</label><div class=\"sk-toggleable__content\"><pre>ColumnTransformer(transformers=[('scale', MinMaxScaler(), slice(1, 10, None))])</pre></div></div></div><div class=\"sk-parallel\"><div class=\"sk-parallel-item\"><div class=\"sk-item\"><div class=\"sk-label-container\"><div class=\"sk-label sk-toggleable\"><input class=\"sk-toggleable__control sk-hidden--visually\" id=\"e1df73bf-efa6-4921-8164-aa94cc3c9c56\" type=\"checkbox\" ><label class=\"sk-toggleable__label\" for=\"e1df73bf-efa6-4921-8164-aa94cc3c9c56\">scale</label><div class=\"sk-toggleable__content\"><pre>slice(1, 10, None)</pre></div></div></div><div class=\"sk-serial\"><div class=\"sk-item\"><div class=\"sk-estimator sk-toggleable\"><input class=\"sk-toggleable__control sk-hidden--visually\" id=\"cd693c5a-f6ad-42af-9565-81c761b87683\" type=\"checkbox\" ><label class=\"sk-toggleable__label\" for=\"cd693c5a-f6ad-42af-9565-81c761b87683\">MinMaxScaler</label><div class=\"sk-toggleable__content\"><pre>MinMaxScaler()</pre></div></div></div></div></div></div></div></div><div class=\"sk-item\"><div class=\"sk-estimator sk-toggleable\"><input class=\"sk-toggleable__control sk-hidden--visually\" id=\"1a4c9354-6a5d-4030-b3a5-f0e5d370508f\" type=\"checkbox\" ><label class=\"sk-toggleable__label\" for=\"1a4c9354-6a5d-4030-b3a5-f0e5d370508f\">SelectKBest</label><div class=\"sk-toggleable__content\"><pre>SelectKBest(k=6, score_func=<function chi2 at 0x7f20358cb5e0>)</pre></div></div></div><div class=\"sk-item\"><div class=\"sk-estimator sk-toggleable\"><input class=\"sk-toggleable__control sk-hidden--visually\" id=\"04e91b52-c4f5-43ca-a620-1c3fdecab9ad\" type=\"checkbox\" ><label class=\"sk-toggleable__label\" for=\"04e91b52-c4f5-43ca-a620-1c3fdecab9ad\">DecisionTreeClassifier</label><div class=\"sk-toggleable__content\"><pre>DecisionTreeClassifier()</pre></div></div></div></div></div></div></div>"
      ],
      "text/plain": [
       "Pipeline(steps=[('columntransformer-1',\n",
       "                 ColumnTransformer(remainder='passthrough',\n",
       "                                   transformers=[('impute_age', SimpleImputer(),\n",
       "                                                  [2]),\n",
       "                                                 ('impute_embarked',\n",
       "                                                  SimpleImputer(strategy='most_frequent'),\n",
       "                                                  [6])])),\n",
       "                ('columntransformer-2',\n",
       "                 ColumnTransformer(remainder='passthrough',\n",
       "                                   transformers=[('ohe_sex_embarked',\n",
       "                                                  OneHotEncoder(handle_unknown='ignore',\n",
       "                                                                sparse=False),\n",
       "                                                  [1, 6])])),\n",
       "                ('columntransformer-3',\n",
       "                 ColumnTransformer(transformers=[('scale', MinMaxScaler(),\n",
       "                                                  slice(1, 10, None))])),\n",
       "                ('selectkbest',\n",
       "                 SelectKBest(k=6,\n",
       "                             score_func=<function chi2 at 0x7f20358cb5e0>)),\n",
       "                ('decisiontreeclassifier', DecisionTreeClassifier())])"
      ]
     },
     "execution_count": 23,
     "metadata": {},
     "output_type": "execute_result"
    }
   ],
   "source": [
    "pipe1"
   ]
  },
  {
   "cell_type": "markdown",
   "id": "5656b5bc",
   "metadata": {},
   "source": [
    "### pipeline is better as it is easy to debug"
   ]
  },
  {
   "cell_type": "code",
   "execution_count": 24,
   "id": "51f531e2",
   "metadata": {},
   "outputs": [
    {
     "data": {
      "text/html": [
       "<style>#sk-58241a2e-37da-4aaa-b44c-a4ea1393ff10 {color: black;background-color: white;}#sk-58241a2e-37da-4aaa-b44c-a4ea1393ff10 pre{padding: 0;}#sk-58241a2e-37da-4aaa-b44c-a4ea1393ff10 div.sk-toggleable {background-color: white;}#sk-58241a2e-37da-4aaa-b44c-a4ea1393ff10 label.sk-toggleable__label {cursor: pointer;display: block;width: 100%;margin-bottom: 0;padding: 0.2em 0.3em;box-sizing: border-box;text-align: center;}#sk-58241a2e-37da-4aaa-b44c-a4ea1393ff10 div.sk-toggleable__content {max-height: 0;max-width: 0;overflow: hidden;text-align: left;background-color: #f0f8ff;}#sk-58241a2e-37da-4aaa-b44c-a4ea1393ff10 div.sk-toggleable__content pre {margin: 0.2em;color: black;border-radius: 0.25em;background-color: #f0f8ff;}#sk-58241a2e-37da-4aaa-b44c-a4ea1393ff10 input.sk-toggleable__control:checked~div.sk-toggleable__content {max-height: 200px;max-width: 100%;overflow: auto;}#sk-58241a2e-37da-4aaa-b44c-a4ea1393ff10 div.sk-estimator input.sk-toggleable__control:checked~label.sk-toggleable__label {background-color: #d4ebff;}#sk-58241a2e-37da-4aaa-b44c-a4ea1393ff10 div.sk-label input.sk-toggleable__control:checked~label.sk-toggleable__label {background-color: #d4ebff;}#sk-58241a2e-37da-4aaa-b44c-a4ea1393ff10 input.sk-hidden--visually {border: 0;clip: rect(1px 1px 1px 1px);clip: rect(1px, 1px, 1px, 1px);height: 1px;margin: -1px;overflow: hidden;padding: 0;position: absolute;width: 1px;}#sk-58241a2e-37da-4aaa-b44c-a4ea1393ff10 div.sk-estimator {font-family: monospace;background-color: #f0f8ff;margin: 0.25em 0.25em;border: 1px dotted black;border-radius: 0.25em;box-sizing: border-box;}#sk-58241a2e-37da-4aaa-b44c-a4ea1393ff10 div.sk-estimator:hover {background-color: #d4ebff;}#sk-58241a2e-37da-4aaa-b44c-a4ea1393ff10 div.sk-parallel-item::after {content: \"\";width: 100%;border-bottom: 1px solid gray;flex-grow: 1;}#sk-58241a2e-37da-4aaa-b44c-a4ea1393ff10 div.sk-label:hover label.sk-toggleable__label {background-color: #d4ebff;}#sk-58241a2e-37da-4aaa-b44c-a4ea1393ff10 div.sk-serial::before {content: \"\";position: absolute;border-left: 1px solid gray;box-sizing: border-box;top: 2em;bottom: 0;left: 50%;}#sk-58241a2e-37da-4aaa-b44c-a4ea1393ff10 div.sk-serial {display: flex;flex-direction: column;align-items: center;background-color: white;}#sk-58241a2e-37da-4aaa-b44c-a4ea1393ff10 div.sk-item {z-index: 1;}#sk-58241a2e-37da-4aaa-b44c-a4ea1393ff10 div.sk-parallel {display: flex;align-items: stretch;justify-content: center;background-color: white;}#sk-58241a2e-37da-4aaa-b44c-a4ea1393ff10 div.sk-parallel-item {display: flex;flex-direction: column;position: relative;background-color: white;}#sk-58241a2e-37da-4aaa-b44c-a4ea1393ff10 div.sk-parallel-item:first-child::after {align-self: flex-end;width: 50%;}#sk-58241a2e-37da-4aaa-b44c-a4ea1393ff10 div.sk-parallel-item:last-child::after {align-self: flex-start;width: 50%;}#sk-58241a2e-37da-4aaa-b44c-a4ea1393ff10 div.sk-parallel-item:only-child::after {width: 0;}#sk-58241a2e-37da-4aaa-b44c-a4ea1393ff10 div.sk-dashed-wrapped {border: 1px dashed gray;margin: 0.2em;box-sizing: border-box;padding-bottom: 0.1em;background-color: white;position: relative;}#sk-58241a2e-37da-4aaa-b44c-a4ea1393ff10 div.sk-label label {font-family: monospace;font-weight: bold;background-color: white;display: inline-block;line-height: 1.2em;}#sk-58241a2e-37da-4aaa-b44c-a4ea1393ff10 div.sk-label-container {position: relative;z-index: 2;text-align: center;}#sk-58241a2e-37da-4aaa-b44c-a4ea1393ff10 div.sk-container {display: inline-block;position: relative;}</style><div id=\"sk-58241a2e-37da-4aaa-b44c-a4ea1393ff10\" class\"sk-top-container\"><div class=\"sk-container\"><div class=\"sk-item sk-dashed-wrapped\"><div class=\"sk-label-container\"><div class=\"sk-label sk-toggleable\"><input class=\"sk-toggleable__control sk-hidden--visually\" id=\"ecc07a16-7f3b-44e3-94cc-0434c83aee87\" type=\"checkbox\" ><label class=\"sk-toggleable__label\" for=\"ecc07a16-7f3b-44e3-94cc-0434c83aee87\">Pipeline</label><div class=\"sk-toggleable__content\"><pre>Pipeline(steps=[('trf1',\n",
       "                 ColumnTransformer(remainder='passthrough',\n",
       "                                   transformers=[('impute_age', SimpleImputer(),\n",
       "                                                  [2]),\n",
       "                                                 ('impute_embarked',\n",
       "                                                  SimpleImputer(strategy='most_frequent'),\n",
       "                                                  [6])])),\n",
       "                ('trf2',\n",
       "                 ColumnTransformer(remainder='passthrough',\n",
       "                                   transformers=[('ohe_sex_embarked',\n",
       "                                                  OneHotEncoder(handle_unknown='ignore',\n",
       "                                                                sparse=False),\n",
       "                                                  [1, 6])])),\n",
       "                ('trf3',\n",
       "                 ColumnTransformer(transformers=[('scale', MinMaxScaler(),\n",
       "                                                  slice(1, 10, None))])),\n",
       "                ('trf4',\n",
       "                 SelectKBest(k=6,\n",
       "                             score_func=<function chi2 at 0x7f20358cb5e0>)),\n",
       "                ('trf5', DecisionTreeClassifier())])</pre></div></div></div><div class=\"sk-serial\"><div class=\"sk-item sk-dashed-wrapped\"><div class=\"sk-label-container\"><div class=\"sk-label sk-toggleable\"><input class=\"sk-toggleable__control sk-hidden--visually\" id=\"1de990ab-dd38-462b-a395-c137601ed2b1\" type=\"checkbox\" ><label class=\"sk-toggleable__label\" for=\"1de990ab-dd38-462b-a395-c137601ed2b1\">trf1: ColumnTransformer</label><div class=\"sk-toggleable__content\"><pre>ColumnTransformer(remainder='passthrough',\n",
       "                  transformers=[('impute_age', SimpleImputer(), [2]),\n",
       "                                ('impute_embarked',\n",
       "                                 SimpleImputer(strategy='most_frequent'),\n",
       "                                 [6])])</pre></div></div></div><div class=\"sk-parallel\"><div class=\"sk-parallel-item\"><div class=\"sk-item\"><div class=\"sk-label-container\"><div class=\"sk-label sk-toggleable\"><input class=\"sk-toggleable__control sk-hidden--visually\" id=\"a8559c36-5e16-40f1-b8e0-e6a033db11f6\" type=\"checkbox\" ><label class=\"sk-toggleable__label\" for=\"a8559c36-5e16-40f1-b8e0-e6a033db11f6\">impute_age</label><div class=\"sk-toggleable__content\"><pre>[2]</pre></div></div></div><div class=\"sk-serial\"><div class=\"sk-item\"><div class=\"sk-estimator sk-toggleable\"><input class=\"sk-toggleable__control sk-hidden--visually\" id=\"90c8c9f3-0736-4e00-85ed-2269e77dd880\" type=\"checkbox\" ><label class=\"sk-toggleable__label\" for=\"90c8c9f3-0736-4e00-85ed-2269e77dd880\">SimpleImputer</label><div class=\"sk-toggleable__content\"><pre>SimpleImputer()</pre></div></div></div></div></div></div><div class=\"sk-parallel-item\"><div class=\"sk-item\"><div class=\"sk-label-container\"><div class=\"sk-label sk-toggleable\"><input class=\"sk-toggleable__control sk-hidden--visually\" id=\"8ed8ce4b-18e5-4494-98d9-d7a15eb17e98\" type=\"checkbox\" ><label class=\"sk-toggleable__label\" for=\"8ed8ce4b-18e5-4494-98d9-d7a15eb17e98\">impute_embarked</label><div class=\"sk-toggleable__content\"><pre>[6]</pre></div></div></div><div class=\"sk-serial\"><div class=\"sk-item\"><div class=\"sk-estimator sk-toggleable\"><input class=\"sk-toggleable__control sk-hidden--visually\" id=\"437123e0-4593-4d72-a58c-f3d1bea34480\" type=\"checkbox\" ><label class=\"sk-toggleable__label\" for=\"437123e0-4593-4d72-a58c-f3d1bea34480\">SimpleImputer</label><div class=\"sk-toggleable__content\"><pre>SimpleImputer(strategy='most_frequent')</pre></div></div></div></div></div></div><div class=\"sk-parallel-item\"><div class=\"sk-item\"><div class=\"sk-label-container\"><div class=\"sk-label sk-toggleable\"><input class=\"sk-toggleable__control sk-hidden--visually\" id=\"000ff286-c786-4270-ada0-c96823bb5bd6\" type=\"checkbox\" ><label class=\"sk-toggleable__label\" for=\"000ff286-c786-4270-ada0-c96823bb5bd6\">remainder</label><div class=\"sk-toggleable__content\"><pre>['Pclass', 'Sex', 'SibSp', 'Parch', 'Fare']</pre></div></div></div><div class=\"sk-serial\"><div class=\"sk-item\"><div class=\"sk-estimator sk-toggleable\"><input class=\"sk-toggleable__control sk-hidden--visually\" id=\"3694eca3-5271-41a4-a61b-11824c8fb8a9\" type=\"checkbox\" ><label class=\"sk-toggleable__label\" for=\"3694eca3-5271-41a4-a61b-11824c8fb8a9\">passthrough</label><div class=\"sk-toggleable__content\"><pre>passthrough</pre></div></div></div></div></div></div></div></div><div class=\"sk-item sk-dashed-wrapped\"><div class=\"sk-label-container\"><div class=\"sk-label sk-toggleable\"><input class=\"sk-toggleable__control sk-hidden--visually\" id=\"921b3c03-7152-4f23-85f2-222d85381d3a\" type=\"checkbox\" ><label class=\"sk-toggleable__label\" for=\"921b3c03-7152-4f23-85f2-222d85381d3a\">trf2: ColumnTransformer</label><div class=\"sk-toggleable__content\"><pre>ColumnTransformer(remainder='passthrough',\n",
       "                  transformers=[('ohe_sex_embarked',\n",
       "                                 OneHotEncoder(handle_unknown='ignore',\n",
       "                                               sparse=False),\n",
       "                                 [1, 6])])</pre></div></div></div><div class=\"sk-parallel\"><div class=\"sk-parallel-item\"><div class=\"sk-item\"><div class=\"sk-label-container\"><div class=\"sk-label sk-toggleable\"><input class=\"sk-toggleable__control sk-hidden--visually\" id=\"6c407840-ce93-4e5b-a6da-7acd17a7c83d\" type=\"checkbox\" ><label class=\"sk-toggleable__label\" for=\"6c407840-ce93-4e5b-a6da-7acd17a7c83d\">ohe_sex_embarked</label><div class=\"sk-toggleable__content\"><pre>[1, 6]</pre></div></div></div><div class=\"sk-serial\"><div class=\"sk-item\"><div class=\"sk-estimator sk-toggleable\"><input class=\"sk-toggleable__control sk-hidden--visually\" id=\"829416e8-4b86-42d8-b7c4-aafdae032e45\" type=\"checkbox\" ><label class=\"sk-toggleable__label\" for=\"829416e8-4b86-42d8-b7c4-aafdae032e45\">OneHotEncoder</label><div class=\"sk-toggleable__content\"><pre>OneHotEncoder(handle_unknown='ignore', sparse=False)</pre></div></div></div></div></div></div><div class=\"sk-parallel-item\"><div class=\"sk-item\"><div class=\"sk-label-container\"><div class=\"sk-label sk-toggleable\"><input class=\"sk-toggleable__control sk-hidden--visually\" id=\"24248089-ddb3-4875-b754-79083c0503ec\" type=\"checkbox\" ><label class=\"sk-toggleable__label\" for=\"24248089-ddb3-4875-b754-79083c0503ec\">remainder</label><div class=\"sk-toggleable__content\"><pre>[0, 2, 3, 4, 5]</pre></div></div></div><div class=\"sk-serial\"><div class=\"sk-item\"><div class=\"sk-estimator sk-toggleable\"><input class=\"sk-toggleable__control sk-hidden--visually\" id=\"8daea9c5-e1e6-4574-a57e-e6d67f30d0a6\" type=\"checkbox\" ><label class=\"sk-toggleable__label\" for=\"8daea9c5-e1e6-4574-a57e-e6d67f30d0a6\">passthrough</label><div class=\"sk-toggleable__content\"><pre>passthrough</pre></div></div></div></div></div></div></div></div><div class=\"sk-item sk-dashed-wrapped\"><div class=\"sk-label-container\"><div class=\"sk-label sk-toggleable\"><input class=\"sk-toggleable__control sk-hidden--visually\" id=\"e2c2d6a7-20ca-4f25-870d-6864915c19b4\" type=\"checkbox\" ><label class=\"sk-toggleable__label\" for=\"e2c2d6a7-20ca-4f25-870d-6864915c19b4\">trf3: ColumnTransformer</label><div class=\"sk-toggleable__content\"><pre>ColumnTransformer(transformers=[('scale', MinMaxScaler(), slice(1, 10, None))])</pre></div></div></div><div class=\"sk-parallel\"><div class=\"sk-parallel-item\"><div class=\"sk-item\"><div class=\"sk-label-container\"><div class=\"sk-label sk-toggleable\"><input class=\"sk-toggleable__control sk-hidden--visually\" id=\"00c09959-1e9e-4473-b409-c3436532c11b\" type=\"checkbox\" ><label class=\"sk-toggleable__label\" for=\"00c09959-1e9e-4473-b409-c3436532c11b\">scale</label><div class=\"sk-toggleable__content\"><pre>slice(1, 10, None)</pre></div></div></div><div class=\"sk-serial\"><div class=\"sk-item\"><div class=\"sk-estimator sk-toggleable\"><input class=\"sk-toggleable__control sk-hidden--visually\" id=\"a4b0c868-c8bb-4f14-b370-2a34d2bb52ec\" type=\"checkbox\" ><label class=\"sk-toggleable__label\" for=\"a4b0c868-c8bb-4f14-b370-2a34d2bb52ec\">MinMaxScaler</label><div class=\"sk-toggleable__content\"><pre>MinMaxScaler()</pre></div></div></div></div></div></div></div></div><div class=\"sk-item\"><div class=\"sk-estimator sk-toggleable\"><input class=\"sk-toggleable__control sk-hidden--visually\" id=\"d2346c79-0cf3-4711-bf3b-99f5aa5d26e5\" type=\"checkbox\" ><label class=\"sk-toggleable__label\" for=\"d2346c79-0cf3-4711-bf3b-99f5aa5d26e5\">SelectKBest</label><div class=\"sk-toggleable__content\"><pre>SelectKBest(k=6, score_func=<function chi2 at 0x7f20358cb5e0>)</pre></div></div></div><div class=\"sk-item\"><div class=\"sk-estimator sk-toggleable\"><input class=\"sk-toggleable__control sk-hidden--visually\" id=\"142736ae-bba0-4cf9-8836-4599854fa1ea\" type=\"checkbox\" ><label class=\"sk-toggleable__label\" for=\"142736ae-bba0-4cf9-8836-4599854fa1ea\">DecisionTreeClassifier</label><div class=\"sk-toggleable__content\"><pre>DecisionTreeClassifier()</pre></div></div></div></div></div></div></div>"
      ],
      "text/plain": [
       "Pipeline(steps=[('trf1',\n",
       "                 ColumnTransformer(remainder='passthrough',\n",
       "                                   transformers=[('impute_age', SimpleImputer(),\n",
       "                                                  [2]),\n",
       "                                                 ('impute_embarked',\n",
       "                                                  SimpleImputer(strategy='most_frequent'),\n",
       "                                                  [6])])),\n",
       "                ('trf2',\n",
       "                 ColumnTransformer(remainder='passthrough',\n",
       "                                   transformers=[('ohe_sex_embarked',\n",
       "                                                  OneHotEncoder(handle_unknown='ignore',\n",
       "                                                                sparse=False),\n",
       "                                                  [1, 6])])),\n",
       "                ('trf3',\n",
       "                 ColumnTransformer(transformers=[('scale', MinMaxScaler(),\n",
       "                                                  slice(1, 10, None))])),\n",
       "                ('trf4',\n",
       "                 SelectKBest(k=6,\n",
       "                             score_func=<function chi2 at 0x7f20358cb5e0>)),\n",
       "                ('trf5', DecisionTreeClassifier())])"
      ]
     },
     "execution_count": 24,
     "metadata": {},
     "output_type": "execute_result"
    }
   ],
   "source": [
    "#train\n",
    "pipe.fit(X_train,y_train)"
   ]
  },
  {
   "cell_type": "markdown",
   "id": "1d32c153",
   "metadata": {},
   "source": [
    "# Explore the Pipelines"
   ]
  },
  {
   "cell_type": "code",
   "execution_count": 25,
   "id": "b9c6b38c",
   "metadata": {},
   "outputs": [
    {
     "data": {
      "text/plain": [
       "{'trf1': ColumnTransformer(remainder='passthrough',\n",
       "                   transformers=[('impute_age', SimpleImputer(), [2]),\n",
       "                                 ('impute_embarked',\n",
       "                                  SimpleImputer(strategy='most_frequent'),\n",
       "                                  [6])]),\n",
       " 'trf2': ColumnTransformer(remainder='passthrough',\n",
       "                   transformers=[('ohe_sex_embarked',\n",
       "                                  OneHotEncoder(handle_unknown='ignore',\n",
       "                                                sparse=False),\n",
       "                                  [1, 6])]),\n",
       " 'trf3': ColumnTransformer(transformers=[('scale', MinMaxScaler(), slice(1, 10, None))]),\n",
       " 'trf4': SelectKBest(k=6, score_func=<function chi2 at 0x7f20358cb5e0>),\n",
       " 'trf5': DecisionTreeClassifier()}"
      ]
     },
     "execution_count": 25,
     "metadata": {},
     "output_type": "execute_result"
    }
   ],
   "source": [
    "pipe.named_steps"
   ]
  },
  {
   "cell_type": "code",
   "execution_count": 28,
   "id": "cc19483f",
   "metadata": {},
   "outputs": [
    {
     "data": {
      "text/plain": [
       "[('impute_age', SimpleImputer(), [2]),\n",
       " ('impute_embarked', SimpleImputer(strategy='most_frequent'), [6]),\n",
       " ('remainder', 'passthrough', [0, 1, 3, 4, 5])]"
      ]
     },
     "execution_count": 28,
     "metadata": {},
     "output_type": "execute_result"
    }
   ],
   "source": [
    "pipe.named_steps['trf1'].transformers_ #to find the mean value"
   ]
  },
  {
   "cell_type": "code",
   "execution_count": 34,
   "id": "db8ed9b4",
   "metadata": {},
   "outputs": [
    {
     "data": {
      "text/plain": [
       "array([30.16725217])"
      ]
     },
     "execution_count": 34,
     "metadata": {},
     "output_type": "execute_result"
    }
   ],
   "source": [
    "pipe.named_steps['trf1'].transformers_[0][1].statistics_"
   ]
  },
  {
   "cell_type": "markdown",
   "id": "873b953d",
   "metadata": {},
   "source": [
    "pipe.named_steps['trf1'].transformers_[1][1].statistics_"
   ]
  },
  {
   "cell_type": "code",
   "execution_count": 40,
   "id": "ad7f4b23",
   "metadata": {},
   "outputs": [],
   "source": [
    "#predict\n",
    "y_pred = pipe.predict(X_test)"
   ]
  },
  {
   "cell_type": "code",
   "execution_count": 41,
   "id": "5457dc56",
   "metadata": {},
   "outputs": [
    {
     "data": {
      "text/plain": [
       "0.6145251396648045"
      ]
     },
     "execution_count": 41,
     "metadata": {},
     "output_type": "execute_result"
    }
   ],
   "source": [
    "from sklearn.metrics import accuracy_score\n",
    "accuracy_score(y_test,y_pred)"
   ]
  },
  {
   "cell_type": "markdown",
   "id": "68bf674d",
   "metadata": {},
   "source": [
    "## Cross validation using pipeline"
   ]
  },
  {
   "cell_type": "code",
   "execution_count": 42,
   "id": "fd88b545",
   "metadata": {},
   "outputs": [
    {
     "data": {
      "text/plain": [
       "0.6081158278341376"
      ]
     },
     "execution_count": 42,
     "metadata": {},
     "output_type": "execute_result"
    }
   ],
   "source": [
    "#cross validation using cross_val_scores\n",
    "from sklearn.model_selection import cross_val_score\n",
    "cross_val_score(pipe,X_train,y_train,cv=5,scoring='accuracy').mean()"
   ]
  },
  {
   "cell_type": "markdown",
   "id": "201db1b3",
   "metadata": {},
   "source": [
    "## GridSearch using pipeline"
   ]
  },
  {
   "cell_type": "code",
   "execution_count": 43,
   "id": "6518ba91",
   "metadata": {},
   "outputs": [],
   "source": [
    "#gridSearch\n",
    "params = {\n",
    "    'trf5__max_depth':[1,2,3,4,5,None]\n",
    "} "
   ]
  },
  {
   "cell_type": "code",
   "execution_count": 44,
   "id": "0c695e51",
   "metadata": {},
   "outputs": [
    {
     "data": {
      "text/html": [
       "<style>#sk-52adac86-417f-4db7-aded-a61cff84ef87 {color: black;background-color: white;}#sk-52adac86-417f-4db7-aded-a61cff84ef87 pre{padding: 0;}#sk-52adac86-417f-4db7-aded-a61cff84ef87 div.sk-toggleable {background-color: white;}#sk-52adac86-417f-4db7-aded-a61cff84ef87 label.sk-toggleable__label {cursor: pointer;display: block;width: 100%;margin-bottom: 0;padding: 0.2em 0.3em;box-sizing: border-box;text-align: center;}#sk-52adac86-417f-4db7-aded-a61cff84ef87 div.sk-toggleable__content {max-height: 0;max-width: 0;overflow: hidden;text-align: left;background-color: #f0f8ff;}#sk-52adac86-417f-4db7-aded-a61cff84ef87 div.sk-toggleable__content pre {margin: 0.2em;color: black;border-radius: 0.25em;background-color: #f0f8ff;}#sk-52adac86-417f-4db7-aded-a61cff84ef87 input.sk-toggleable__control:checked~div.sk-toggleable__content {max-height: 200px;max-width: 100%;overflow: auto;}#sk-52adac86-417f-4db7-aded-a61cff84ef87 div.sk-estimator input.sk-toggleable__control:checked~label.sk-toggleable__label {background-color: #d4ebff;}#sk-52adac86-417f-4db7-aded-a61cff84ef87 div.sk-label input.sk-toggleable__control:checked~label.sk-toggleable__label {background-color: #d4ebff;}#sk-52adac86-417f-4db7-aded-a61cff84ef87 input.sk-hidden--visually {border: 0;clip: rect(1px 1px 1px 1px);clip: rect(1px, 1px, 1px, 1px);height: 1px;margin: -1px;overflow: hidden;padding: 0;position: absolute;width: 1px;}#sk-52adac86-417f-4db7-aded-a61cff84ef87 div.sk-estimator {font-family: monospace;background-color: #f0f8ff;margin: 0.25em 0.25em;border: 1px dotted black;border-radius: 0.25em;box-sizing: border-box;}#sk-52adac86-417f-4db7-aded-a61cff84ef87 div.sk-estimator:hover {background-color: #d4ebff;}#sk-52adac86-417f-4db7-aded-a61cff84ef87 div.sk-parallel-item::after {content: \"\";width: 100%;border-bottom: 1px solid gray;flex-grow: 1;}#sk-52adac86-417f-4db7-aded-a61cff84ef87 div.sk-label:hover label.sk-toggleable__label {background-color: #d4ebff;}#sk-52adac86-417f-4db7-aded-a61cff84ef87 div.sk-serial::before {content: \"\";position: absolute;border-left: 1px solid gray;box-sizing: border-box;top: 2em;bottom: 0;left: 50%;}#sk-52adac86-417f-4db7-aded-a61cff84ef87 div.sk-serial {display: flex;flex-direction: column;align-items: center;background-color: white;}#sk-52adac86-417f-4db7-aded-a61cff84ef87 div.sk-item {z-index: 1;}#sk-52adac86-417f-4db7-aded-a61cff84ef87 div.sk-parallel {display: flex;align-items: stretch;justify-content: center;background-color: white;}#sk-52adac86-417f-4db7-aded-a61cff84ef87 div.sk-parallel-item {display: flex;flex-direction: column;position: relative;background-color: white;}#sk-52adac86-417f-4db7-aded-a61cff84ef87 div.sk-parallel-item:first-child::after {align-self: flex-end;width: 50%;}#sk-52adac86-417f-4db7-aded-a61cff84ef87 div.sk-parallel-item:last-child::after {align-self: flex-start;width: 50%;}#sk-52adac86-417f-4db7-aded-a61cff84ef87 div.sk-parallel-item:only-child::after {width: 0;}#sk-52adac86-417f-4db7-aded-a61cff84ef87 div.sk-dashed-wrapped {border: 1px dashed gray;margin: 0.2em;box-sizing: border-box;padding-bottom: 0.1em;background-color: white;position: relative;}#sk-52adac86-417f-4db7-aded-a61cff84ef87 div.sk-label label {font-family: monospace;font-weight: bold;background-color: white;display: inline-block;line-height: 1.2em;}#sk-52adac86-417f-4db7-aded-a61cff84ef87 div.sk-label-container {position: relative;z-index: 2;text-align: center;}#sk-52adac86-417f-4db7-aded-a61cff84ef87 div.sk-container {display: inline-block;position: relative;}</style><div id=\"sk-52adac86-417f-4db7-aded-a61cff84ef87\" class\"sk-top-container\"><div class=\"sk-container\"><div class=\"sk-item sk-dashed-wrapped\"><div class=\"sk-label-container\"><div class=\"sk-label sk-toggleable\"><input class=\"sk-toggleable__control sk-hidden--visually\" id=\"68783bd9-b9f7-4694-92bc-fc0a964252cf\" type=\"checkbox\" ><label class=\"sk-toggleable__label\" for=\"68783bd9-b9f7-4694-92bc-fc0a964252cf\">GridSearchCV</label><div class=\"sk-toggleable__content\"><pre>GridSearchCV(cv=5,\n",
       "             estimator=Pipeline(steps=[('trf1',\n",
       "                                        ColumnTransformer(remainder='passthrough',\n",
       "                                                          transformers=[('impute_age',\n",
       "                                                                         SimpleImputer(),\n",
       "                                                                         [2]),\n",
       "                                                                        ('impute_embarked',\n",
       "                                                                         SimpleImputer(strategy='most_frequent'),\n",
       "                                                                         [6])])),\n",
       "                                       ('trf2',\n",
       "                                        ColumnTransformer(remainder='passthrough',\n",
       "                                                          transformers=[('ohe_sex_embarked',\n",
       "                                                                         OneHotEncoder(handle_unknown='ignore',\n",
       "                                                                                       sparse=False),\n",
       "                                                                         [1,\n",
       "                                                                          6])])),\n",
       "                                       ('trf3',\n",
       "                                        ColumnTransformer(transformers=[('scale',\n",
       "                                                                         MinMaxScaler(),\n",
       "                                                                         slice(1, 10, None))])),\n",
       "                                       ('trf4',\n",
       "                                        SelectKBest(k=6,\n",
       "                                                    score_func=<function chi2 at 0x7f20358cb5e0>)),\n",
       "                                       ('trf5', DecisionTreeClassifier())]),\n",
       "             param_grid={'trf5__max_depth': [1, 2, 3, 4, 5, None]},\n",
       "             scoring='accuracy')</pre></div></div></div><div class=\"sk-parallel\"><div class=\"sk-parallel-item\"><div class=\"sk-item\"><div class=\"sk-serial\"><div class=\"sk-item\"><div class=\"sk-serial\"><div class=\"sk-item sk-dashed-wrapped\"><div class=\"sk-label-container\"><div class=\"sk-label sk-toggleable\"><input class=\"sk-toggleable__control sk-hidden--visually\" id=\"7874b929-4d79-42cb-a2d3-cb29c2dc5bc3\" type=\"checkbox\" ><label class=\"sk-toggleable__label\" for=\"7874b929-4d79-42cb-a2d3-cb29c2dc5bc3\">trf1: ColumnTransformer</label><div class=\"sk-toggleable__content\"><pre>ColumnTransformer(remainder='passthrough',\n",
       "                  transformers=[('impute_age', SimpleImputer(), [2]),\n",
       "                                ('impute_embarked',\n",
       "                                 SimpleImputer(strategy='most_frequent'),\n",
       "                                 [6])])</pre></div></div></div><div class=\"sk-parallel\"><div class=\"sk-parallel-item\"><div class=\"sk-item\"><div class=\"sk-label-container\"><div class=\"sk-label sk-toggleable\"><input class=\"sk-toggleable__control sk-hidden--visually\" id=\"845f4b30-0d76-4f36-9b5d-85c763224f10\" type=\"checkbox\" ><label class=\"sk-toggleable__label\" for=\"845f4b30-0d76-4f36-9b5d-85c763224f10\">impute_age</label><div class=\"sk-toggleable__content\"><pre>[2]</pre></div></div></div><div class=\"sk-serial\"><div class=\"sk-item\"><div class=\"sk-estimator sk-toggleable\"><input class=\"sk-toggleable__control sk-hidden--visually\" id=\"4522d39c-4436-4540-be76-4516a06a01e8\" type=\"checkbox\" ><label class=\"sk-toggleable__label\" for=\"4522d39c-4436-4540-be76-4516a06a01e8\">SimpleImputer</label><div class=\"sk-toggleable__content\"><pre>SimpleImputer()</pre></div></div></div></div></div></div><div class=\"sk-parallel-item\"><div class=\"sk-item\"><div class=\"sk-label-container\"><div class=\"sk-label sk-toggleable\"><input class=\"sk-toggleable__control sk-hidden--visually\" id=\"e6f3bbf1-0ec5-4e6b-93b6-50afe0c61791\" type=\"checkbox\" ><label class=\"sk-toggleable__label\" for=\"e6f3bbf1-0ec5-4e6b-93b6-50afe0c61791\">impute_embarked</label><div class=\"sk-toggleable__content\"><pre>[6]</pre></div></div></div><div class=\"sk-serial\"><div class=\"sk-item\"><div class=\"sk-estimator sk-toggleable\"><input class=\"sk-toggleable__control sk-hidden--visually\" id=\"909acbcc-ddd9-4eea-96aa-66dd498ef2b7\" type=\"checkbox\" ><label class=\"sk-toggleable__label\" for=\"909acbcc-ddd9-4eea-96aa-66dd498ef2b7\">SimpleImputer</label><div class=\"sk-toggleable__content\"><pre>SimpleImputer(strategy='most_frequent')</pre></div></div></div></div></div></div><div class=\"sk-parallel-item\"><div class=\"sk-item\"><div class=\"sk-label-container\"><div class=\"sk-label sk-toggleable\"><input class=\"sk-toggleable__control sk-hidden--visually\" id=\"c2629d78-1185-45ac-aa0e-1487b9fec9f1\" type=\"checkbox\" ><label class=\"sk-toggleable__label\" for=\"c2629d78-1185-45ac-aa0e-1487b9fec9f1\">remainder</label><div class=\"sk-toggleable__content\"><pre>['Pclass', 'Sex', 'SibSp', 'Parch', 'Fare']</pre></div></div></div><div class=\"sk-serial\"><div class=\"sk-item\"><div class=\"sk-estimator sk-toggleable\"><input class=\"sk-toggleable__control sk-hidden--visually\" id=\"df594484-b790-4e5e-910a-f90c0e069717\" type=\"checkbox\" ><label class=\"sk-toggleable__label\" for=\"df594484-b790-4e5e-910a-f90c0e069717\">passthrough</label><div class=\"sk-toggleable__content\"><pre>passthrough</pre></div></div></div></div></div></div></div></div><div class=\"sk-item sk-dashed-wrapped\"><div class=\"sk-label-container\"><div class=\"sk-label sk-toggleable\"><input class=\"sk-toggleable__control sk-hidden--visually\" id=\"ececc16a-2515-4bf3-a9f8-cac95200f941\" type=\"checkbox\" ><label class=\"sk-toggleable__label\" for=\"ececc16a-2515-4bf3-a9f8-cac95200f941\">trf2: ColumnTransformer</label><div class=\"sk-toggleable__content\"><pre>ColumnTransformer(remainder='passthrough',\n",
       "                  transformers=[('ohe_sex_embarked',\n",
       "                                 OneHotEncoder(handle_unknown='ignore',\n",
       "                                               sparse=False),\n",
       "                                 [1, 6])])</pre></div></div></div><div class=\"sk-parallel\"><div class=\"sk-parallel-item\"><div class=\"sk-item\"><div class=\"sk-label-container\"><div class=\"sk-label sk-toggleable\"><input class=\"sk-toggleable__control sk-hidden--visually\" id=\"9b0ce568-9089-4e3c-a56d-dc3983dbc2a5\" type=\"checkbox\" ><label class=\"sk-toggleable__label\" for=\"9b0ce568-9089-4e3c-a56d-dc3983dbc2a5\">ohe_sex_embarked</label><div class=\"sk-toggleable__content\"><pre>[1, 6]</pre></div></div></div><div class=\"sk-serial\"><div class=\"sk-item\"><div class=\"sk-estimator sk-toggleable\"><input class=\"sk-toggleable__control sk-hidden--visually\" id=\"cf4e6bbf-d158-4507-913c-3cefc50beda0\" type=\"checkbox\" ><label class=\"sk-toggleable__label\" for=\"cf4e6bbf-d158-4507-913c-3cefc50beda0\">OneHotEncoder</label><div class=\"sk-toggleable__content\"><pre>OneHotEncoder(handle_unknown='ignore', sparse=False)</pre></div></div></div></div></div></div><div class=\"sk-parallel-item\"><div class=\"sk-item\"><div class=\"sk-label-container\"><div class=\"sk-label sk-toggleable\"><input class=\"sk-toggleable__control sk-hidden--visually\" id=\"fd668a3d-e185-48df-a974-132710a7d981\" type=\"checkbox\" ><label class=\"sk-toggleable__label\" for=\"fd668a3d-e185-48df-a974-132710a7d981\">remainder</label><div class=\"sk-toggleable__content\"><pre>[0, 2, 3, 4, 5]</pre></div></div></div><div class=\"sk-serial\"><div class=\"sk-item\"><div class=\"sk-estimator sk-toggleable\"><input class=\"sk-toggleable__control sk-hidden--visually\" id=\"c8dba830-c606-4b71-983f-ddced2ca3e01\" type=\"checkbox\" ><label class=\"sk-toggleable__label\" for=\"c8dba830-c606-4b71-983f-ddced2ca3e01\">passthrough</label><div class=\"sk-toggleable__content\"><pre>passthrough</pre></div></div></div></div></div></div></div></div><div class=\"sk-item sk-dashed-wrapped\"><div class=\"sk-label-container\"><div class=\"sk-label sk-toggleable\"><input class=\"sk-toggleable__control sk-hidden--visually\" id=\"ad3cc2c7-85f3-4414-a6ca-b65880633b80\" type=\"checkbox\" ><label class=\"sk-toggleable__label\" for=\"ad3cc2c7-85f3-4414-a6ca-b65880633b80\">trf3: ColumnTransformer</label><div class=\"sk-toggleable__content\"><pre>ColumnTransformer(transformers=[('scale', MinMaxScaler(), slice(1, 10, None))])</pre></div></div></div><div class=\"sk-parallel\"><div class=\"sk-parallel-item\"><div class=\"sk-item\"><div class=\"sk-label-container\"><div class=\"sk-label sk-toggleable\"><input class=\"sk-toggleable__control sk-hidden--visually\" id=\"9b2c9535-77fd-4152-9f50-868adbdde087\" type=\"checkbox\" ><label class=\"sk-toggleable__label\" for=\"9b2c9535-77fd-4152-9f50-868adbdde087\">scale</label><div class=\"sk-toggleable__content\"><pre>slice(1, 10, None)</pre></div></div></div><div class=\"sk-serial\"><div class=\"sk-item\"><div class=\"sk-estimator sk-toggleable\"><input class=\"sk-toggleable__control sk-hidden--visually\" id=\"75de9d64-0a46-44fd-acab-c5f6cdce0b3f\" type=\"checkbox\" ><label class=\"sk-toggleable__label\" for=\"75de9d64-0a46-44fd-acab-c5f6cdce0b3f\">MinMaxScaler</label><div class=\"sk-toggleable__content\"><pre>MinMaxScaler()</pre></div></div></div></div></div></div></div></div><div class=\"sk-item\"><div class=\"sk-estimator sk-toggleable\"><input class=\"sk-toggleable__control sk-hidden--visually\" id=\"eb6884ee-1626-4796-bbce-55dfb3330b31\" type=\"checkbox\" ><label class=\"sk-toggleable__label\" for=\"eb6884ee-1626-4796-bbce-55dfb3330b31\">SelectKBest</label><div class=\"sk-toggleable__content\"><pre>SelectKBest(k=6, score_func=<function chi2 at 0x7f20358cb5e0>)</pre></div></div></div><div class=\"sk-item\"><div class=\"sk-estimator sk-toggleable\"><input class=\"sk-toggleable__control sk-hidden--visually\" id=\"ad57227f-a891-46f0-89f8-5e9c2f6312a9\" type=\"checkbox\" ><label class=\"sk-toggleable__label\" for=\"ad57227f-a891-46f0-89f8-5e9c2f6312a9\">DecisionTreeClassifier</label><div class=\"sk-toggleable__content\"><pre>DecisionTreeClassifier()</pre></div></div></div></div></div></div></div></div></div></div></div></div>"
      ],
      "text/plain": [
       "GridSearchCV(cv=5,\n",
       "             estimator=Pipeline(steps=[('trf1',\n",
       "                                        ColumnTransformer(remainder='passthrough',\n",
       "                                                          transformers=[('impute_age',\n",
       "                                                                         SimpleImputer(),\n",
       "                                                                         [2]),\n",
       "                                                                        ('impute_embarked',\n",
       "                                                                         SimpleImputer(strategy='most_frequent'),\n",
       "                                                                         [6])])),\n",
       "                                       ('trf2',\n",
       "                                        ColumnTransformer(remainder='passthrough',\n",
       "                                                          transformers=[('ohe_sex_embarked',\n",
       "                                                                         OneHotEncoder(handle_unknown='ignore',\n",
       "                                                                                       sparse=False),\n",
       "                                                                         [1,\n",
       "                                                                          6])])),\n",
       "                                       ('trf3',\n",
       "                                        ColumnTransformer(transformers=[('scale',\n",
       "                                                                         MinMaxScaler(),\n",
       "                                                                         slice(1, 10, None))])),\n",
       "                                       ('trf4',\n",
       "                                        SelectKBest(k=6,\n",
       "                                                    score_func=<function chi2 at 0x7f20358cb5e0>)),\n",
       "                                       ('trf5', DecisionTreeClassifier())]),\n",
       "             param_grid={'trf5__max_depth': [1, 2, 3, 4, 5, None]},\n",
       "             scoring='accuracy')"
      ]
     },
     "execution_count": 44,
     "metadata": {},
     "output_type": "execute_result"
    }
   ],
   "source": [
    "from sklearn.model_selection import GridSearchCV\n",
    "grid = GridSearchCV(pipe,params,cv=5,scoring='accuracy')\n",
    "grid.fit(X_train,y_train)"
   ]
  },
  {
   "cell_type": "code",
   "execution_count": 45,
   "id": "33d914f5",
   "metadata": {},
   "outputs": [
    {
     "data": {
      "text/plain": [
       "0.6081256771397616"
      ]
     },
     "execution_count": 45,
     "metadata": {},
     "output_type": "execute_result"
    }
   ],
   "source": [
    "grid.best_score_"
   ]
  },
  {
   "cell_type": "code",
   "execution_count": 46,
   "id": "b0fa571a",
   "metadata": {},
   "outputs": [
    {
     "data": {
      "text/plain": [
       "{'trf5__max_depth': 1}"
      ]
     },
     "execution_count": 46,
     "metadata": {},
     "output_type": "execute_result"
    }
   ],
   "source": [
    "grid.best_params_"
   ]
  },
  {
   "cell_type": "markdown",
   "id": "93189e3e",
   "metadata": {},
   "source": [
    "## Exporting the pipiline"
   ]
  },
  {
   "cell_type": "code",
   "execution_count": 47,
   "id": "31387511",
   "metadata": {},
   "outputs": [],
   "source": [
    "import pickle\n",
    "pickle.dump(pipe,open('pipe.pkl','wb'))"
   ]
  },
  {
   "cell_type": "code",
   "execution_count": null,
   "id": "d825c8c1",
   "metadata": {},
   "outputs": [],
   "source": []
  }
 ],
 "metadata": {
  "kernelspec": {
   "display_name": "Python 3",
   "language": "python",
   "name": "python3"
  },
  "language_info": {
   "codemirror_mode": {
    "name": "ipython",
    "version": 3
   },
   "file_extension": ".py",
   "mimetype": "text/x-python",
   "name": "python",
   "nbconvert_exporter": "python",
   "pygments_lexer": "ipython3",
   "version": "3.9.7"
  }
 },
 "nbformat": 4,
 "nbformat_minor": 5
}
