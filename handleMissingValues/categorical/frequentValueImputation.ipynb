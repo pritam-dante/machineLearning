{
 "cells": [
  {
   "cell_type": "code",
   "execution_count": 1,
   "id": "1f94acd1",
   "metadata": {},
   "outputs": [],
   "source": [
    "import numpy as np\n",
    "import pandas as pd\n",
    "import matplotlib.pyplot as plt"
   ]
  },
  {
   "cell_type": "code",
   "execution_count": 2,
   "id": "71ef38f7",
   "metadata": {},
   "outputs": [],
   "source": [
    "df = pd.read_csv('train.csv', usecols=['GarageQual','FireplaceQu','SalePrice'])"
   ]
  },
  {
   "cell_type": "code",
   "execution_count": 3,
   "id": "172f53be",
   "metadata": {},
   "outputs": [
    {
     "data": {
      "text/html": [
       "<div>\n",
       "<style scoped>\n",
       "    .dataframe tbody tr th:only-of-type {\n",
       "        vertical-align: middle;\n",
       "    }\n",
       "\n",
       "    .dataframe tbody tr th {\n",
       "        vertical-align: top;\n",
       "    }\n",
       "\n",
       "    .dataframe thead th {\n",
       "        text-align: right;\n",
       "    }\n",
       "</style>\n",
       "<table border=\"1\" class=\"dataframe\">\n",
       "  <thead>\n",
       "    <tr style=\"text-align: right;\">\n",
       "      <th></th>\n",
       "      <th>FireplaceQu</th>\n",
       "      <th>GarageQual</th>\n",
       "      <th>SalePrice</th>\n",
       "    </tr>\n",
       "  </thead>\n",
       "  <tbody>\n",
       "    <tr>\n",
       "      <th>654</th>\n",
       "      <td>TA</td>\n",
       "      <td>TA</td>\n",
       "      <td>350000</td>\n",
       "    </tr>\n",
       "    <tr>\n",
       "      <th>73</th>\n",
       "      <td>NaN</td>\n",
       "      <td>TA</td>\n",
       "      <td>144900</td>\n",
       "    </tr>\n",
       "    <tr>\n",
       "      <th>224</th>\n",
       "      <td>Ex</td>\n",
       "      <td>TA</td>\n",
       "      <td>386250</td>\n",
       "    </tr>\n",
       "    <tr>\n",
       "      <th>280</th>\n",
       "      <td>TA</td>\n",
       "      <td>TA</td>\n",
       "      <td>228500</td>\n",
       "    </tr>\n",
       "    <tr>\n",
       "      <th>523</th>\n",
       "      <td>Gd</td>\n",
       "      <td>TA</td>\n",
       "      <td>184750</td>\n",
       "    </tr>\n",
       "  </tbody>\n",
       "</table>\n",
       "</div>"
      ],
      "text/plain": [
       "    FireplaceQu GarageQual  SalePrice\n",
       "654          TA         TA     350000\n",
       "73          NaN         TA     144900\n",
       "224          Ex         TA     386250\n",
       "280          TA         TA     228500\n",
       "523          Gd         TA     184750"
      ]
     },
     "execution_count": 3,
     "metadata": {},
     "output_type": "execute_result"
    }
   ],
   "source": [
    "df.sample(5)"
   ]
  },
  {
   "cell_type": "code",
   "execution_count": 4,
   "id": "250b485e",
   "metadata": {},
   "outputs": [
    {
     "data": {
      "text/plain": [
       "FireplaceQu    0.472603\n",
       "GarageQual     0.055479\n",
       "SalePrice      0.000000\n",
       "dtype: float64"
      ]
     },
     "execution_count": 4,
     "metadata": {},
     "output_type": "execute_result"
    }
   ],
   "source": [
    "df.isnull().mean()"
   ]
  },
  {
   "cell_type": "code",
   "execution_count": 5,
   "id": "ba1fb921",
   "metadata": {},
   "outputs": [
    {
     "data": {
      "text/plain": [
       "TA    1311\n",
       "Fa      48\n",
       "Gd      14\n",
       "Ex       3\n",
       "Po       3\n",
       "Name: GarageQual, dtype: int64"
      ]
     },
     "execution_count": 5,
     "metadata": {},
     "output_type": "execute_result"
    }
   ],
   "source": [
    "df['GarageQual'].value_counts()"
   ]
  },
  {
   "cell_type": "code",
   "execution_count": 6,
   "id": "8e863536",
   "metadata": {},
   "outputs": [
    {
     "data": {
      "text/plain": [
       "<AxesSubplot:>"
      ]
     },
     "execution_count": 6,
     "metadata": {},
     "output_type": "execute_result"
    },
    {
     "data": {
      "image/png": "[encoded data removed]",
      "text/plain": [
       "<Figure size 432x288 with 1 Axes>"
      ]
     },
     "metadata": {
      "needs_background": "light"
     },
     "output_type": "display_data"
    }
   ],
   "source": [
    "df['GarageQual'].value_counts().plot.bar()"
   ]
  },
  {
   "cell_type": "code",
   "execution_count": 7,
   "id": "36f95fd0",
   "metadata": {},
   "outputs": [
    {
     "data": {
      "text/plain": [
       "0    TA\n",
       "dtype: object"
      ]
     },
     "execution_count": 7,
     "metadata": {},
     "output_type": "execute_result"
    }
   ],
   "source": [
    "df['GarageQual'].mode()"
   ]
  },
  {
   "cell_type": "code",
   "execution_count": 14,
   "id": "1f241ebe",
   "metadata": {},
   "outputs": [
    {
     "data": {
      "text/plain": [
       "Text(0.5, 1.0, 'GarageQuality')"
      ]
     },
     "execution_count": 14,
     "metadata": {},
     "output_type": "execute_result"
    },
    {
     "data": {
      "image/png": "[encoded data removed]",
      "text/plain": [
       "<Figure size 432x288 with 1 Axes>"
      ]
     },
     "metadata": {
      "needs_background": "light"
     },
     "output_type": "display_data"
    }
   ],
   "source": [
    "fig = plt.figure()\n",
    "ax = fig.add_subplot(111)\n",
    "\n",
    "df[df['GarageQual']=='TA']['SalePrice'].plot.kde(ax=ax)\n",
    "\n",
    "df[df['GarageQual'].isnull()]['SalePrice'].plot.kde(ax=ax, color='red')\n",
    "\n",
    "lines,labels = ax.get_legend_handles_labels()\n",
    "labels = ['House with TA','House with NAN']\n",
    "ax.legend(lines,labels,loc='best')\n",
    "\n",
    "plt.title('GarageQuality')"
   ]
  },
  {
   "cell_type": "code",
   "execution_count": 15,
   "id": "5da3e564",
   "metadata": {},
   "outputs": [],
   "source": [
    "temp = df[df['GarageQual']== 'TA']['SalePrice']"
   ]
  },
  {
   "cell_type": "code",
   "execution_count": 16,
   "id": "f9750f4c",
   "metadata": {},
   "outputs": [],
   "source": [
    "df['GarageQual'].fillna('TA',inplace=True)"
   ]
  },
  {
   "cell_type": "code",
   "execution_count": 17,
   "id": "7034ef3e",
   "metadata": {},
   "outputs": [
    {
     "data": {
      "text/plain": [
       "<AxesSubplot:>"
      ]
     },
     "execution_count": 17,
     "metadata": {},
     "output_type": "execute_result"
    },
    {
     "data": {
      "image/png": "[encoded data removed]",
      "text/plain": [
       "<Figure size 432x288 with 1 Axes>"
      ]
     },
     "metadata": {
      "needs_background": "light"
     },
     "output_type": "display_data"
    }
   ],
   "source": [
    "df['GarageQual'].value_counts().plot.bar()"
   ]
  },
  {
   "cell_type": "markdown",
   "id": "1281ba45",
   "metadata": {},
   "source": [
    "### TA value is increased"
   ]
  },
  {
   "cell_type": "code",
   "execution_count": 20,
   "id": "09df81f8",
   "metadata": {},
   "outputs": [
    {
     "data": {
      "text/plain": [
       "<matplotlib.legend.Legend at 0x7f431e3d9df0>"
      ]
     },
     "execution_count": 20,
     "metadata": {},
     "output_type": "execute_result"
    },
    {
     "data": {
      "image/png": "[encoded data removed]",
      "text/plain": [
       "<Figure size 432x288 with 1 Axes>"
      ]
     },
     "metadata": {
      "needs_background": "light"
     },
     "output_type": "display_data"
    }
   ],
   "source": [
    "fig = plt.figure()\n",
    "ax = fig.add_subplot(111)\n",
    "\n",
    "temp.plot.kde(ax=ax)\n",
    "\n",
    "#distribution of the varaibale after imputation\n",
    "df[df['GarageQual']== 'TA']['SalePrice'].plot.kde(ax=ax,color='red')\n",
    "\n",
    "lines,labels =ax.get_legend_handles_labels()\n",
    "labels =['Original variable','Imputed variable']\n",
    "ax.legend(lines,labels,loc='best')\n"
   ]
  },
  {
   "cell_type": "markdown",
   "id": "7d834648",
   "metadata": {},
   "source": [
    "# with firePlaceQuality column"
   ]
  },
  {
   "cell_type": "code",
   "execution_count": 21,
   "id": "b2e62c9f",
   "metadata": {},
   "outputs": [
    {
     "data": {
      "text/plain": [
       "Gd    380\n",
       "TA    313\n",
       "Fa     33\n",
       "Ex     24\n",
       "Po     20\n",
       "Name: FireplaceQu, dtype: int64"
      ]
     },
     "execution_count": 21,
     "metadata": {},
     "output_type": "execute_result"
    }
   ],
   "source": [
    "df['FireplaceQu'].value_counts()"
   ]
  },
  {
   "cell_type": "code",
   "execution_count": 24,
   "id": "0cb979f1",
   "metadata": {},
   "outputs": [
    {
     "data": {
      "text/plain": [
       "<AxesSubplot:>"
      ]
     },
     "execution_count": 24,
     "metadata": {},
     "output_type": "execute_result"
    },
    {
     "data": {
      "image/png": "[encoded data removed]",
      "text/plain": [
       "<Figure size 432x288 with 1 Axes>"
      ]
     },
     "metadata": {
      "needs_background": "light"
     },
     "output_type": "display_data"
    }
   ],
   "source": [
    "df['FireplaceQu'].value_counts().plot(kind='bar')"
   ]
  },
  {
   "cell_type": "markdown",
   "id": "73051e49",
   "metadata": {},
   "source": [
    "### as gd and ta is almost similar..the result will not be efficient"
   ]
  },
  {
   "cell_type": "code",
   "execution_count": 25,
   "id": "55d38660",
   "metadata": {},
   "outputs": [
    {
     "data": {
      "text/plain": [
       "0    Gd\n",
       "dtype: object"
      ]
     },
     "execution_count": 25,
     "metadata": {},
     "output_type": "execute_result"
    }
   ],
   "source": [
    "df['FireplaceQu'].mode()"
   ]
  },
  {
   "cell_type": "code",
   "execution_count": 31,
   "id": "af015b86",
   "metadata": {},
   "outputs": [
    {
     "data": {
      "text/plain": [
       "Text(0.5, 1.0, 'FirePlaceQuality')"
      ]
     },
     "execution_count": 31,
     "metadata": {},
     "output_type": "execute_result"
    },
    {
     "data": {
      "image/png": "[encoded data removed]",
      "text/plain": [
       "<Figure size 432x288 with 1 Axes>"
      ]
     },
     "metadata": {
      "needs_background": "light"
     },
     "output_type": "display_data"
    }
   ],
   "source": [
    "fig = plt.figure()\n",
    "ax = fig.add_subplot(111)\n",
    "\n",
    "df[df['FireplaceQu'] =='Gd']['SalePrice'].plot(kind='kde',ax=ax)\n",
    "\n",
    "df[df['FireplaceQu'].isnull()]['SalePrice'].plot(kind='kde',ax=ax,color='red')\n",
    "\n",
    "lines,labels = ax.get_legend_handles_labels()\n",
    "labels=['House with GD','House with NAN']\n",
    "\n",
    "ax.legend(lines,labels,loc='best')\n",
    "\n",
    "plt.title('FirePlaceQuality')"
   ]
  },
  {
   "cell_type": "code",
   "execution_count": 32,
   "id": "9f5c11cb",
   "metadata": {},
   "outputs": [],
   "source": [
    "temp = df[df['FireplaceQu']=='Gd']['SalePrice']"
   ]
  },
  {
   "cell_type": "code",
   "execution_count": 33,
   "id": "f7b171c7",
   "metadata": {},
   "outputs": [],
   "source": [
    "df['FireplaceQu'].fillna('Gd',inplace=True)"
   ]
  },
  {
   "cell_type": "code",
   "execution_count": 34,
   "id": "76cc5943",
   "metadata": {},
   "outputs": [
    {
     "data": {
      "text/plain": [
       "<AxesSubplot:>"
      ]
     },
     "execution_count": 34,
     "metadata": {},
     "output_type": "execute_result"
    },
    {
     "data": {
      "image/png": "[encoded data removed]",
      "text/plain": [
       "<Figure size 432x288 with 1 Axes>"
      ]
     },
     "metadata": {
      "needs_background": "light"
     },
     "output_type": "display_data"
    }
   ],
   "source": [
    "df['FireplaceQu'].value_counts().plot.bar()"
   ]
  },
  {
   "cell_type": "code",
   "execution_count": 35,
   "id": "fd5296ec",
   "metadata": {},
   "outputs": [
    {
     "data": {
      "text/plain": [
       "<matplotlib.legend.Legend at 0x7f431940d790>"
      ]
     },
     "execution_count": 35,
     "metadata": {},
     "output_type": "execute_result"
    },
    {
     "data": {
      "image/png": "[encoded data removed]",
      "text/plain": [
       "<Figure size 432x288 with 1 Axes>"
      ]
     },
     "metadata": {
      "needs_background": "light"
     },
     "output_type": "display_data"
    }
   ],
   "source": [
    "fig = plt.figure()\n",
    "ax= fig.add_subplot(111)\n",
    "\n",
    "temp.plot.kde(ax=ax)\n",
    "\n",
    "df[df['FireplaceQu']=='Gd']['SalePrice'].plot.kde(ax=ax,color='red')\n",
    "\n",
    "lines,labels = ax.get_legend_handles_labels()\n",
    "labels = ['Original variable','imputed variable']\n",
    "ax.legend(lines,labels,loc='best')"
   ]
  },
  {
   "cell_type": "markdown",
   "id": "ba91d9c8",
   "metadata": {},
   "source": [
    "## the result is not good\n",
    "\n",
    "# Now with sklearn\n"
   ]
  },
  {
   "cell_type": "code",
   "execution_count": 36,
   "id": "329ca349",
   "metadata": {},
   "outputs": [],
   "source": [
    "from sklearn.model_selection import train_test_split"
   ]
  },
  {
   "cell_type": "code",
   "execution_count": 37,
   "id": "d3b7b26b",
   "metadata": {},
   "outputs": [],
   "source": [
    "X_train,X_test,y_train,y_test= train_test_split(df.drop(columns=['SalePrice']),df['SalePrice'],test_size=0.2)"
   ]
  },
  {
   "cell_type": "code",
   "execution_count": 38,
   "id": "a93bb3b1",
   "metadata": {},
   "outputs": [
    {
     "data": {
      "text/plain": [
       "((1168, 2), (292, 2))"
      ]
     },
     "execution_count": 38,
     "metadata": {},
     "output_type": "execute_result"
    }
   ],
   "source": [
    "X_train.shape, X_test.shape"
   ]
  },
  {
   "cell_type": "code",
   "execution_count": 39,
   "id": "225a79f3",
   "metadata": {},
   "outputs": [],
   "source": [
    "from sklearn.impute import  SimpleImputer"
   ]
  },
  {
   "cell_type": "code",
   "execution_count": 40,
   "id": "17632b3b",
   "metadata": {},
   "outputs": [],
   "source": [
    "imputer = SimpleImputer(strategy='most_frequent')"
   ]
  },
  {
   "cell_type": "code",
   "execution_count": 41,
   "id": "7915f984",
   "metadata": {},
   "outputs": [],
   "source": [
    "X_train = imputer.fit_transform(X_train)\n",
    "X_test=imputer.transform(X_test)"
   ]
  },
  {
   "cell_type": "code",
   "execution_count": 42,
   "id": "3bb196ec",
   "metadata": {},
   "outputs": [
    {
     "data": {
      "text/plain": [
       "array(['Gd', 'TA'], dtype=object)"
      ]
     },
     "execution_count": 42,
     "metadata": {},
     "output_type": "execute_result"
    }
   ],
   "source": [
    "imputer.statistics_"
   ]
  },
  {
   "cell_type": "code",
   "execution_count": 44,
   "id": "e6946519",
   "metadata": {},
   "outputs": [
    {
     "data": {
      "text/plain": [
       "'Gd'"
      ]
     },
     "execution_count": 44,
     "metadata": {},
     "output_type": "execute_result"
    }
   ],
   "source": [
    "imputer.statistics_[0]"
   ]
  },
  {
   "cell_type": "code",
   "execution_count": null,
   "id": "44a26f84",
   "metadata": {},
   "outputs": [],
   "source": []
  }
 ],
 "metadata": {
  "kernelspec": {
   "display_name": "Python 3",
   "language": "python",
   "name": "python3"
  },
  "language_info": {
   "codemirror_mode": {
    "name": "ipython",
    "version": 3
   },
   "file_extension": ".py",
   "mimetype": "text/x-python",
   "name": "python",
   "nbconvert_exporter": "python",
   "pygments_lexer": "ipython3",
   "version": "3.9.7"
  }
 },
 "nbformat": 4,
 "nbformat_minor": 5
}
